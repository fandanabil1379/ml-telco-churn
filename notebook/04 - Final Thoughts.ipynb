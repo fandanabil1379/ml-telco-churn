{
 "cells": [
  {
   "cell_type": "markdown",
   "metadata": {},
   "source": [
    "<a id=\"top\"></a>\n",
    "\n",
    "<div style=\"display: flex; justify-content: space-between;\">\n",
    "    <a href=\"../notebook/03 - Predictive Analysis.ipynb\" style=\"float: left; padding: 10px; text-decoration: none; background-color: #007bff; color: white; border-radius: 5px;\">Previous</a>\n",
    "    <a href=\"../notebook/01 - Business & Data Understanding.ipynb\" style=\"float: right; padding: 10px; text-decoration: none; background-color: #007bff; color: white; border-radius: 5px;\">Next</a>\n",
    "</div>"
   ]
  },
  {
   "cell_type": "markdown",
   "metadata": {},
   "source": [
    "## <b><span style='color:darkturquoise'>Section 6 |</span><span style='color:darkblue'> Insights Recap and Actionable Recommendations</span></b>\n",
    "\n",
    "____"
   ]
  },
  {
   "cell_type": "markdown",
   "metadata": {},
   "source": [
    "### **6.1 Summary**\n",
    "\n",
    "In this project, we try to address the problem of customer churn rate by reducing it by 10%. Because the current churn rate can be considered “bad” by telco standards (typical churn rate: 26%), and could potentially cause more financial loss to the company. To achieve the business objectives, the project involved diagnostic analysis on historical data to understand customer churn. Specifically, the analysis was conducted by comparing customers who churned and did not churn with a focus on customer demographics, service subscription, and billing & payment.\n",
    "\n",
    "**1. Data analysis**\n",
    "\n",
    "- Customer churn is characterized by several distinct patterns. Churned customers often have shorter tenure with the company, indicating a lack of long-term commitment. They tend to have higher monthly charges, which might contribute to dissatisfaction, but lower total charges, reflecting their limited time as customers. These individuals are more likely to have month-to-month contracts, prefer the convenience of paperless billing, and use electronic checks for payments. \n",
    "- Many churned customers opt for fiber optic internet services and maintain multiple phone lines, possibly reflecting a higher dependence on connectivity services. However, they are less likely to subscribe to additional technology services like online security or backup but are more inclined to use streaming-related add-on services. \n",
    "- Demographically, churned customers are often senior citizens who lack a partner and are not financially dependent, which may affect their purchasing priorities and need for bundled services. These behavioral and demographic trends provide valuable insights into understanding and addressing customer churn.\n",
    "\n",
    "**2. Predictive modeling**\n",
    "\n",
    "- Our predictive modeling prioritizes minimizing false negatives (actual 1, predicted 0) more than false positives (actual 0 predicted 1) as the financial cost of FN is 5 times more expensive than that of FP. Four experiments utilizing different sampling techniques to address class imbalance problem, Logistic Regression, particularly from Experiment 2, using SMOTE emerged as the top performing model based on its minimum misclassification cost (FN).  \n",
    "- Using this model, we found that some features, namely `Tenure`, `Total Charges`, and `Contract Month-to-month`, significantly influence the likelihood of churns. We also have explored how changing values in specific features can change the predictions, highlighting the importance of these features in influencing the likelihood of churns."
   ]
  },
  {
   "cell_type": "markdown",
   "metadata": {},
   "source": [
    "### **6.2 Recommendations**\n",
    "\n",
    "For customer experience manager, there are several key factors to focus on in reducing churn:\n",
    "- Implement or enhance loyalty programs (if already exists) to reward long-term customers, encouraging longer stays and higher total charges. This can be achieved through tiered rewards or exclusive offers based on their tenure.\n",
    "- Use personalized marketing campaigns to target customers who currently do not have Online Security, Online Backup, or Device Protection. Showcase testimonials, benefits, and potential risks of not subscribing.\n",
    "- Encourage customers to switch to automated payment methods such as credit card or bank transfer.\n",
    "- Utilize the model's predictions to proactively flag at-risk customers to prevent them from leaving. Taking the model's predictions into considerations enables the company to save more money because manager can implement targeted interventions to at-risk customers in order to reduce the number of churners."
   ]
  },
  {
   "cell_type": "markdown",
   "metadata": {},
   "source": [
    " <h1 span style='text-align:center; font-weight:bold; color:orange'>---END---</h1>"
   ]
  }
 ],
 "metadata": {
  "language_info": {
   "name": "python"
  }
 },
 "nbformat": 4,
 "nbformat_minor": 2
}
