{
 "cells": [
  {
   "cell_type": "markdown",
   "metadata": {},
   "source": [
    "<a id=\"top\"></a>\n",
    "\n",
    "<div style=\"display: flex; justify-content: space-between;\">\n",
    "    <a href=\"../notebook/02 - Exploratory Data Analysis.ipynb\" style=\"float: left; padding: 10px; text-decoration: none; background-color: #007bff; color: white; border-radius: 5px;\">Previous</a>\n",
    "    <a href=\"../notebook/04 - Final Thoughts.ipynb\" style=\"float: right; padding: 10px; text-decoration: none; background-color: #007bff; color: white; border-radius: 5px;\">Next</a>\n",
    "</div>"
   ]
  },
  {
   "cell_type": "code",
   "execution_count": 4,
   "metadata": {},
   "outputs": [],
   "source": [
    "# Importing necessary libraries\n",
    "import random\n",
    "import numpy as np  \n",
    "import pandas as pd \n",
    "import seaborn as sns   \n",
    "import warnings   \n",
    "import matplotlib.pyplot as plt \n",
    "\n",
    "# Importing machine learning and feature selection libraries\n",
    "from pycaret.classification import *\n",
    "from sklearn.calibration import CalibratedClassifierCV\n",
    "from sklearn.feature_selection import SelectKBest, mutual_info_classif\n",
    "from sklearn.model_selection import train_test_split\n",
    "from sklearn.metrics import confusion_matrix\n",
    "from sklearn.calibration import calibration_curve\n",
    "\n",
    "# Importing SHAP and DiCE for explainable AI\n",
    "import shap\n",
    "import dice_ml\n",
    "from dice_ml import Dice\n",
    "\n",
    "# Hide warning issues to prevent unnecessary output clutter\n",
    "warnings.filterwarnings(\"ignore\")\n",
    "\n",
    "# Setting the maximum column width for pandas display to 100 characters\n",
    "pd.options.display.max_colwidth = 100\n",
    "\n",
    "# Applying the 'seaborn' style to matplotlib for consistent and visually appealing plots\n",
    "plt.style.use('seaborn')  \n",
    "\n",
    "# Adding custom scripts to the Python path\n",
    "import sys\n",
    "sys.path.append('../scripts')\n",
    "from helper import *"
   ]
  },
  {
   "cell_type": "markdown",
   "metadata": {},
   "source": [
    "<a id=\"numerical\"></a>\n",
    "## <b><span style='color:darkturquoise'>Section 4 |</span><span style='color:darkblue'> Predicting Churn with Advanced Techniques</span></b>\n",
    "\n",
    "____"
   ]
  },
  {
   "cell_type": "markdown",
   "metadata": {},
   "source": [
    "### **4.1 Introduction**\n",
    "\n",
    "As mentioned earlier in Section 1, one of our primary goals is to build a classification model to help Customer Experience Manager to flag at-risk customers and take data-driven decisitions to prevent customer churn to happen. While, in this section, we will conduct a series of experiments with machine learning algorithms to obtain the best performing model based on two matrices, namely the business matrix and the modeling matrix. For the business matrix we use the sum of the cost incurred due to Type I errors and the cost of Type II errors. \n",
    "\n",
    "$$Loss = {138.8 \\times \\text{False Positif}} + 694 \\times \\text{False Negative}$$\n",
    "\n",
    "While for modeling machine learning we use F5 score. In short, this metric takes into account both precision and recall, but gives five times the weight to recall because the business cost of type II errors is many times greater than type I (Brownlee, 2020, p.66).\n",
    "\n",
    "$$F_5= \\frac{(1+5^2) \\times \\text{Precision} \\times \\text{Recall}}{5^2 \\times \\text{Precision} \\times \\text{Recall}}$$\n",
    "- Precision: proportion of customers identified as likely to churn (positive prediction) actually churned (true positive). To get better precision score, then we need to increase the True Positive relative to False Positive. $$\\text{Precision} = \\frac{\\text{True Positive}}{\\text{True Positive} +\\text{False Positive}}$$\n",
    "- Recall: proportion of customers who actually churned (positive instance) correectly identified by the model (true positive) so in order to get a better score, TP should be increased and FN should be minimized. $$\\text{Recall} = \\frac{\\text{True Positive}}{\\text{True Positive} + \\text{False Negative}}$$"
   ]
  },
  {
   "cell_type": "markdown",
   "metadata": {},
   "source": [
    "Furthermore, here is an outline of our predictive modeling. First, the first experiment will compare the performance values of different models. We try to leave out the unbalanced class problem and directly look at how the models perform in this condition. The next experiment will use different resampling techniques to address the class imbalance problem such as SMOTE and NearMiss."
   ]
  },
  {
   "cell_type": "markdown",
   "metadata": {},
   "source": [
    "### **4.2 Preparation**\n",
    "\n",
    "Unlike the Section 2 in which we used manual data preprocessing, this section will require us to put those preprocessing steps in a pipeline, and thus, reimporting the original dataset is needed. However, before moving forward to the predictive modeling, let us recapitulate what we previously found in Section 2 and Section 3 related to missing values, duplicates, erroneous values, inconsistent values, outliers, cardinality, and distribution of categories in the target variable so we could better decide which data preparation techniques, including cleaning and feature engineering, should be chosen. \n",
    "- **Missing values**: Features, namely `TotalyCharges` contains missing value. We would apply the same method for the data imputation on Section 2. The core difference is in this section, it will be put in a pipeline along with other preprocessing techniques. This pipeline enables us to chain and run multiple ML steps sequentially. \n",
    "- **Duplicates**: Duplicates were not found during our initial data inspection but we will confirm this absence as we also need to remove the unique record identifier (`CustomerID`) as it does not mean anything in the modeling process.\n",
    "- **Erroneous values**: We did not find any erroneous values, e.g., values lower than zeros in `Tenure`, in the dataset so no further check is needed.\n",
    "- **Inconsistent values**: We did not find any inconsistent values, e.g., the word `No` can be in the form `no`.\n",
    "- **Outliers**: Outliers were not found during our initial data inspection.\n",
    "- **Cardinality**: All categorical features indicate low cardinality as the number of unique values is less than 10 and no rare labels at 1% threshold (arbitrary value) were found so no treatment in this section will be necessary.\n",
    "- **Imbalance target**: As the comparison between churn and non-churned customers in target variable `Churn` is 16.8 and 83.2, the distribution is imbalanced. While it is normal in real life, this moderately imbalanced distribution (see [Google for Developers, 2023](https://developers.google.com/machine-learning/data-prep/construct/sampling-splitting/imbalanced-data) for degrees of imbalance) issue will pose a bias challenge to the model, especially to the minority class. "
   ]
  },
  {
   "cell_type": "code",
   "execution_count": 5,
   "metadata": {},
   "outputs": [],
   "source": [
    "# Import the dataset from a CSV file into a pandas DataFrame\n",
    "df = pd.read_csv('../data/data.csv')\n",
    "\n",
    "# Encode target into numeric\n",
    "df['Churn'] = np.where(df['Churn']=='Yes', 1, 0)\n",
    "\n",
    "# Split dataset into seen and unseen\n",
    "df_seen, df_unseen = train_test_split(df, test_size=0.2, random_state=15, stratify=df['Churn'])"
   ]
  },
  {
   "cell_type": "markdown",
   "metadata": {},
   "source": [
    "Then, we created a configuration that sets up a robust and reproducible setup for building and evaluating machine learning models in PyCaret. This configuration emphasizes feature engineering, preprocessing, and model training with cross-validation while ensuring that irrelevant or noisy data is excluded."
   ]
  },
  {
   "cell_type": "code",
   "execution_count": 6,
   "metadata": {},
   "outputs": [],
   "source": [
    "# Define custom configuration\n",
    "pipeline = [(\"feature_selector\", SelectKBest(score_func=mutual_info_classif, k=9))]\n",
    "\n",
    "# Define basic configuration\n",
    "configs = {\n",
    "    'data': df_seen, \n",
    "    'target': 'Churn', \n",
    "    'train_size': 0.8,\n",
    "    'session_id': 15,\n",
    "    'ignore_features': ['customerID'],\n",
    "    'fold': 5,\n",
    "    'fold_shuffle': True,\n",
    "    'imputation_type': 'simple',\n",
    "    'numeric_imputation': 'median',\n",
    "    'normalize': True,\n",
    "    'custom_pipeline': pipeline,\n",
    "    'log_experiment': False,\n",
    "    'system_log': False,\n",
    "    'verbose': False,\n",
    "}"
   ]
  },
  {
   "cell_type": "markdown",
   "metadata": {},
   "source": [
    "**Key Takeaways**\n",
    "\n",
    "- The basic configuration above assembles different preprocessing tasks on the training data:\n",
    "    - **train_size**: 80% of the data is allocated for training, while 20% is reserved for validating.\n",
    "    - **ignore_features**: Excludes irrelevant columns such as `customerID` from the analysis.\n",
    "    - **numeric_imputation**: Median imputer will be applied to numerical features with missing values.\n",
    "    - **normalize**: As these numerical features have different scales, they need to be rescaled so that different features will have similar values and thus, have equal contributions to the model performance. In other words, rescaling can prevent features with large values to dominate the learning process. In this case, we utilize StandardScaler to rescale numerical values in the features mentioned above.\n",
    "    - **custom_pipeline**: Incorporates the custom feature selection pipeline using `SelectKBest`. It selects the top 9 features based on their mutual information with the target variable. This approach ensures that only the most informative features are used in the machine learning model.\n",
    "- Categorical features must be transformed into numerical values, as the model can only take numerical values for processing. The method used by default has been customized by pycaret based on the type of variable i.e. nominal or ordinal."
   ]
  },
  {
   "cell_type": "markdown",
   "metadata": {},
   "source": [
    "### **4.3 Experiment 1: Baseline Models**\n",
    "\n",
    "This experiment is for bechmarking, we aim to investigate how well the model perform using basic experiment setup without resampling technique to overcome the uneven distribution in the target variable."
   ]
  },
  {
   "cell_type": "code",
   "execution_count": 7,
   "metadata": {},
   "outputs": [],
   "source": [
    "# init setup baseline model\n",
    "exp_baseline = ClassificationExperiment()\n",
    "exp_baseline.setup(**configs)\n",
    "\n",
    "# add F4 and total cost as a metric evaluation \n",
    "exp_baseline.add_metric(id='F5', name='F5', score_func=fbeta_score, beta=5)\n",
    "exp_baseline.add_metric(id='Loss', name='Loss (in USD)', score_func=total_cost, greater_is_better=False)\n",
    "\n",
    "# get validation train and validation set\n",
    "train_baseline_set = exp_baseline.get_config('train')\n",
    "val_baseline_set = exp_baseline.get_config('test')"
   ]
  },
  {
   "cell_type": "markdown",
   "metadata": {},
   "source": [
    "Here, we compare different models to identify performance level."
   ]
  },
  {
   "cell_type": "code",
   "execution_count": 8,
   "metadata": {},
   "outputs": [
    {
     "data": {
      "text/html": [
       "<div>\n",
       "<style scoped>\n",
       "    .dataframe tbody tr th:only-of-type {\n",
       "        vertical-align: middle;\n",
       "    }\n",
       "\n",
       "    .dataframe tbody tr th {\n",
       "        vertical-align: top;\n",
       "    }\n",
       "\n",
       "    .dataframe thead th {\n",
       "        text-align: right;\n",
       "    }\n",
       "</style>\n",
       "<table border=\"1\" class=\"dataframe\">\n",
       "  <thead>\n",
       "    <tr style=\"text-align: right;\">\n",
       "      <th></th>\n",
       "      <th></th>\n",
       "      <th></th>\n",
       "    </tr>\n",
       "    <tr>\n",
       "      <th></th>\n",
       "      <th></th>\n",
       "      <th></th>\n",
       "    </tr>\n",
       "  </thead>\n",
       "  <tbody>\n",
       "    <tr>\n",
       "      <th>Initiated</th>\n",
       "      <td>. . . . . . . . . . . . . . . . . .</td>\n",
       "      <td>16:31:38</td>\n",
       "    </tr>\n",
       "    <tr>\n",
       "      <th>Status</th>\n",
       "      <td>. . . . . . . . . . . . . . . . . .</td>\n",
       "      <td>Loading Dependencies</td>\n",
       "    </tr>\n",
       "    <tr>\n",
       "      <th>Estimator</th>\n",
       "      <td>. . . . . . . . . . . . . . . . . .</td>\n",
       "      <td>Compiling Library</td>\n",
       "    </tr>\n",
       "  </tbody>\n",
       "</table>\n",
       "</div>"
      ],
      "text/plain": [
       "                                                                    \n",
       "                                                                    \n",
       "Initiated  . . . . . . . . . . . . . . . . . .              16:31:38\n",
       "Status     . . . . . . . . . . . . . . . . . .  Loading Dependencies\n",
       "Estimator  . . . . . . . . . . . . . . . . . .     Compiling Library"
      ]
     },
     "metadata": {},
     "output_type": "display_data"
    },
    {
     "data": {
      "text/html": [
       "<style type=\"text/css\">\n",
       "#T_b575c th {\n",
       "  text-align: left;\n",
       "}\n",
       "#T_b575c_row0_col0, #T_b575c_row0_col1, #T_b575c_row0_col2, #T_b575c_row0_col3, #T_b575c_row0_col4, #T_b575c_row0_col5, #T_b575c_row0_col6, #T_b575c_row0_col7, #T_b575c_row0_col8, #T_b575c_row0_col9, #T_b575c_row1_col0, #T_b575c_row1_col1, #T_b575c_row1_col2, #T_b575c_row1_col3, #T_b575c_row1_col4, #T_b575c_row1_col6, #T_b575c_row1_col7, #T_b575c_row1_col8, #T_b575c_row1_col9, #T_b575c_row2_col0, #T_b575c_row2_col1, #T_b575c_row2_col3, #T_b575c_row2_col4, #T_b575c_row2_col8, #T_b575c_row2_col9, #T_b575c_row3_col0, #T_b575c_row3_col1, #T_b575c_row3_col2, #T_b575c_row3_col3, #T_b575c_row3_col4, #T_b575c_row3_col5, #T_b575c_row3_col6, #T_b575c_row3_col7, #T_b575c_row3_col8, #T_b575c_row3_col9, #T_b575c_row4_col0, #T_b575c_row4_col1, #T_b575c_row4_col2, #T_b575c_row4_col3, #T_b575c_row4_col4, #T_b575c_row4_col5, #T_b575c_row4_col6, #T_b575c_row4_col7, #T_b575c_row4_col8, #T_b575c_row4_col9, #T_b575c_row5_col0, #T_b575c_row5_col1, #T_b575c_row5_col2, #T_b575c_row5_col3, #T_b575c_row5_col4, #T_b575c_row5_col5, #T_b575c_row5_col6, #T_b575c_row5_col7, #T_b575c_row5_col8, #T_b575c_row5_col9, #T_b575c_row6_col0, #T_b575c_row6_col1, #T_b575c_row6_col2, #T_b575c_row6_col3, #T_b575c_row6_col4, #T_b575c_row6_col5, #T_b575c_row6_col6, #T_b575c_row6_col7, #T_b575c_row6_col8, #T_b575c_row6_col9, #T_b575c_row7_col0, #T_b575c_row7_col1, #T_b575c_row7_col2, #T_b575c_row7_col3, #T_b575c_row7_col4, #T_b575c_row7_col5, #T_b575c_row7_col6, #T_b575c_row7_col7, #T_b575c_row7_col8, #T_b575c_row7_col9, #T_b575c_row8_col0, #T_b575c_row8_col1, #T_b575c_row8_col2, #T_b575c_row8_col3, #T_b575c_row8_col4, #T_b575c_row8_col5, #T_b575c_row8_col6, #T_b575c_row8_col7, #T_b575c_row8_col8, #T_b575c_row8_col9, #T_b575c_row9_col0, #T_b575c_row9_col1, #T_b575c_row9_col2, #T_b575c_row9_col3, #T_b575c_row9_col4, #T_b575c_row9_col5, #T_b575c_row9_col6, #T_b575c_row9_col7, #T_b575c_row9_col8, #T_b575c_row9_col9, #T_b575c_row10_col0, #T_b575c_row10_col1, #T_b575c_row10_col2, #T_b575c_row10_col4, #T_b575c_row10_col5, #T_b575c_row10_col6, #T_b575c_row10_col7, #T_b575c_row10_col9, #T_b575c_row11_col0, #T_b575c_row11_col2, #T_b575c_row11_col3, #T_b575c_row11_col5, #T_b575c_row11_col6, #T_b575c_row11_col7, #T_b575c_row11_col8, #T_b575c_row11_col9, #T_b575c_row12_col0, #T_b575c_row12_col1, #T_b575c_row12_col2, #T_b575c_row12_col3, #T_b575c_row12_col4, #T_b575c_row12_col5, #T_b575c_row12_col6, #T_b575c_row12_col7, #T_b575c_row12_col8 {\n",
       "  text-align: left;\n",
       "}\n",
       "#T_b575c_row0_col10, #T_b575c_row1_col10, #T_b575c_row2_col10, #T_b575c_row3_col10, #T_b575c_row4_col10, #T_b575c_row5_col10, #T_b575c_row7_col10, #T_b575c_row8_col10, #T_b575c_row9_col10, #T_b575c_row10_col10, #T_b575c_row11_col10, #T_b575c_row12_col10 {\n",
       "  text-align: left;\n",
       "  background-color: lightgrey;\n",
       "}\n",
       "#T_b575c_row1_col5, #T_b575c_row2_col2, #T_b575c_row2_col5, #T_b575c_row2_col6, #T_b575c_row2_col7, #T_b575c_row10_col3, #T_b575c_row10_col8, #T_b575c_row11_col1, #T_b575c_row11_col4, #T_b575c_row12_col9 {\n",
       "  text-align: left;\n",
       "  background-color: yellow;\n",
       "}\n",
       "#T_b575c_row6_col10 {\n",
       "  text-align: left;\n",
       "  background-color: yellow;\n",
       "  background-color: lightgrey;\n",
       "}\n",
       "</style>\n",
       "<table id=\"T_b575c\">\n",
       "  <thead>\n",
       "    <tr>\n",
       "      <th class=\"blank level0\" >&nbsp;</th>\n",
       "      <th id=\"T_b575c_level0_col0\" class=\"col_heading level0 col0\" >Model</th>\n",
       "      <th id=\"T_b575c_level0_col1\" class=\"col_heading level0 col1\" >Accuracy</th>\n",
       "      <th id=\"T_b575c_level0_col2\" class=\"col_heading level0 col2\" >AUC</th>\n",
       "      <th id=\"T_b575c_level0_col3\" class=\"col_heading level0 col3\" >Recall</th>\n",
       "      <th id=\"T_b575c_level0_col4\" class=\"col_heading level0 col4\" >Prec.</th>\n",
       "      <th id=\"T_b575c_level0_col5\" class=\"col_heading level0 col5\" >F1</th>\n",
       "      <th id=\"T_b575c_level0_col6\" class=\"col_heading level0 col6\" >Kappa</th>\n",
       "      <th id=\"T_b575c_level0_col7\" class=\"col_heading level0 col7\" >MCC</th>\n",
       "      <th id=\"T_b575c_level0_col8\" class=\"col_heading level0 col8\" >F5</th>\n",
       "      <th id=\"T_b575c_level0_col9\" class=\"col_heading level0 col9\" >Loss (in USD)</th>\n",
       "      <th id=\"T_b575c_level0_col10\" class=\"col_heading level0 col10\" >TT (Sec)</th>\n",
       "    </tr>\n",
       "  </thead>\n",
       "  <tbody>\n",
       "    <tr>\n",
       "      <th id=\"T_b575c_level0_row0\" class=\"row_heading level0 row0\" >nb</th>\n",
       "      <td id=\"T_b575c_row0_col0\" class=\"data row0 col0\" >Naive Bayes</td>\n",
       "      <td id=\"T_b575c_row0_col1\" class=\"data row0 col1\" >0.719</td>\n",
       "      <td id=\"T_b575c_row0_col2\" class=\"data row0 col2\" >0.831</td>\n",
       "      <td id=\"T_b575c_row0_col3\" class=\"data row0 col3\" >0.824</td>\n",
       "      <td id=\"T_b575c_row0_col4\" class=\"data row0 col4\" >0.483</td>\n",
       "      <td id=\"T_b575c_row0_col5\" class=\"data row0 col5\" >0.609</td>\n",
       "      <td id=\"T_b575c_row0_col6\" class=\"data row0 col6\" >0.412</td>\n",
       "      <td id=\"T_b575c_row0_col7\" class=\"data row0 col7\" >0.448</td>\n",
       "      <td id=\"T_b575c_row0_col8\" class=\"data row0 col8\" >0.802</td>\n",
       "      <td id=\"T_b575c_row0_col9\" class=\"data row0 col9\" >58573.600</td>\n",
       "      <td id=\"T_b575c_row0_col10\" class=\"data row0 col10\" >0.086</td>\n",
       "    </tr>\n",
       "    <tr>\n",
       "      <th id=\"T_b575c_level0_row1\" class=\"row_heading level0 row1\" >lr</th>\n",
       "      <td id=\"T_b575c_row1_col0\" class=\"data row1 col0\" >Logistic Regression</td>\n",
       "      <td id=\"T_b575c_row1_col1\" class=\"data row1 col1\" >0.772</td>\n",
       "      <td id=\"T_b575c_row1_col2\" class=\"data row1 col2\" >0.841</td>\n",
       "      <td id=\"T_b575c_row1_col3\" class=\"data row1 col3\" >0.736</td>\n",
       "      <td id=\"T_b575c_row1_col4\" class=\"data row1 col4\" >0.554</td>\n",
       "      <td id=\"T_b575c_row1_col5\" class=\"data row1 col5\" >0.632</td>\n",
       "      <td id=\"T_b575c_row1_col6\" class=\"data row1 col6\" >0.472</td>\n",
       "      <td id=\"T_b575c_row1_col7\" class=\"data row1 col7\" >0.482</td>\n",
       "      <td id=\"T_b575c_row1_col8\" class=\"data row1 col8\" >0.727</td>\n",
       "      <td id=\"T_b575c_row1_col9\" class=\"data row1 col9\" >63570.400</td>\n",
       "      <td id=\"T_b575c_row1_col10\" class=\"data row1 col10\" >1.506</td>\n",
       "    </tr>\n",
       "    <tr>\n",
       "      <th id=\"T_b575c_level0_row2\" class=\"row_heading level0 row2\" >gbc</th>\n",
       "      <td id=\"T_b575c_row2_col0\" class=\"data row2 col0\" >Gradient Boosting Classifier</td>\n",
       "      <td id=\"T_b575c_row2_col1\" class=\"data row2 col1\" >0.781</td>\n",
       "      <td id=\"T_b575c_row2_col2\" class=\"data row2 col2\" >0.846</td>\n",
       "      <td id=\"T_b575c_row2_col3\" class=\"data row2 col3\" >0.710</td>\n",
       "      <td id=\"T_b575c_row2_col4\" class=\"data row2 col4\" >0.570</td>\n",
       "      <td id=\"T_b575c_row2_col5\" class=\"data row2 col5\" >0.632</td>\n",
       "      <td id=\"T_b575c_row2_col6\" class=\"data row2 col6\" >0.479</td>\n",
       "      <td id=\"T_b575c_row2_col7\" class=\"data row2 col7\" >0.485</td>\n",
       "      <td id=\"T_b575c_row2_col8\" class=\"data row2 col8\" >0.703</td>\n",
       "      <td id=\"T_b575c_row2_col9\" class=\"data row2 col9\" >65957.760</td>\n",
       "      <td id=\"T_b575c_row2_col10\" class=\"data row2 col10\" >0.106</td>\n",
       "    </tr>\n",
       "    <tr>\n",
       "      <th id=\"T_b575c_level0_row3\" class=\"row_heading level0 row3\" >lightgbm</th>\n",
       "      <td id=\"T_b575c_row3_col0\" class=\"data row3 col0\" >Light Gradient Boosting Machine</td>\n",
       "      <td id=\"T_b575c_row3_col1\" class=\"data row3 col1\" >0.769</td>\n",
       "      <td id=\"T_b575c_row3_col2\" class=\"data row3 col2\" >0.832</td>\n",
       "      <td id=\"T_b575c_row3_col3\" class=\"data row3 col3\" >0.707</td>\n",
       "      <td id=\"T_b575c_row3_col4\" class=\"data row3 col4\" >0.552</td>\n",
       "      <td id=\"T_b575c_row3_col5\" class=\"data row3 col5\" >0.619</td>\n",
       "      <td id=\"T_b575c_row3_col6\" class=\"data row3 col6\" >0.458</td>\n",
       "      <td id=\"T_b575c_row3_col7\" class=\"data row3 col7\" >0.465</td>\n",
       "      <td id=\"T_b575c_row3_col8\" class=\"data row3 col8\" >0.699</td>\n",
       "      <td id=\"T_b575c_row3_col9\" class=\"data row3 col9\" >67817.680</td>\n",
       "      <td id=\"T_b575c_row3_col10\" class=\"data row3 col10\" >0.118</td>\n",
       "    </tr>\n",
       "    <tr>\n",
       "      <th id=\"T_b575c_level0_row4\" class=\"row_heading level0 row4\" >catboost</th>\n",
       "      <td id=\"T_b575c_row4_col0\" class=\"data row4 col0\" >CatBoost Classifier</td>\n",
       "      <td id=\"T_b575c_row4_col1\" class=\"data row4 col1\" >0.771</td>\n",
       "      <td id=\"T_b575c_row4_col2\" class=\"data row4 col2\" >0.842</td>\n",
       "      <td id=\"T_b575c_row4_col3\" class=\"data row4 col3\" >0.704</td>\n",
       "      <td id=\"T_b575c_row4_col4\" class=\"data row4 col4\" >0.554</td>\n",
       "      <td id=\"T_b575c_row4_col5\" class=\"data row4 col5\" >0.620</td>\n",
       "      <td id=\"T_b575c_row4_col6\" class=\"data row4 col6\" >0.459</td>\n",
       "      <td id=\"T_b575c_row4_col7\" class=\"data row4 col7\" >0.466</td>\n",
       "      <td id=\"T_b575c_row4_col8\" class=\"data row4 col8\" >0.697</td>\n",
       "      <td id=\"T_b575c_row4_col9\" class=\"data row4 col9\" >67956.480</td>\n",
       "      <td id=\"T_b575c_row4_col10\" class=\"data row4 col10\" >0.092</td>\n",
       "    </tr>\n",
       "    <tr>\n",
       "      <th id=\"T_b575c_level0_row5\" class=\"row_heading level0 row5\" >knn</th>\n",
       "      <td id=\"T_b575c_row5_col0\" class=\"data row5 col0\" >K Neighbors Classifier</td>\n",
       "      <td id=\"T_b575c_row5_col1\" class=\"data row5 col1\" >0.737</td>\n",
       "      <td id=\"T_b575c_row5_col2\" class=\"data row5 col2\" >0.787</td>\n",
       "      <td id=\"T_b575c_row5_col3\" class=\"data row5 col3\" >0.724</td>\n",
       "      <td id=\"T_b575c_row5_col4\" class=\"data row5 col4\" >0.503</td>\n",
       "      <td id=\"T_b575c_row5_col5\" class=\"data row5 col5\" >0.594</td>\n",
       "      <td id=\"T_b575c_row5_col6\" class=\"data row5 col6\" >0.409</td>\n",
       "      <td id=\"T_b575c_row5_col7\" class=\"data row5 col7\" >0.424</td>\n",
       "      <td id=\"T_b575c_row5_col8\" class=\"data row5 col8\" >0.712</td>\n",
       "      <td id=\"T_b575c_row5_col9\" class=\"data row5 col9\" >69511.040</td>\n",
       "      <td id=\"T_b575c_row5_col10\" class=\"data row5 col10\" >0.580</td>\n",
       "    </tr>\n",
       "    <tr>\n",
       "      <th id=\"T_b575c_level0_row6\" class=\"row_heading level0 row6\" >svm</th>\n",
       "      <td id=\"T_b575c_row6_col0\" class=\"data row6 col0\" >SVM - Linear Kernel</td>\n",
       "      <td id=\"T_b575c_row6_col1\" class=\"data row6 col1\" >0.780</td>\n",
       "      <td id=\"T_b575c_row6_col2\" class=\"data row6 col2\" >0.000</td>\n",
       "      <td id=\"T_b575c_row6_col3\" class=\"data row6 col3\" >0.651</td>\n",
       "      <td id=\"T_b575c_row6_col4\" class=\"data row6 col4\" >0.581</td>\n",
       "      <td id=\"T_b575c_row6_col5\" class=\"data row6 col5\" >0.610</td>\n",
       "      <td id=\"T_b575c_row6_col6\" class=\"data row6 col6\" >0.459</td>\n",
       "      <td id=\"T_b575c_row6_col7\" class=\"data row6 col7\" >0.463</td>\n",
       "      <td id=\"T_b575c_row6_col8\" class=\"data row6 col8\" >0.648</td>\n",
       "      <td id=\"T_b575c_row6_col9\" class=\"data row6 col9\" >73786.080</td>\n",
       "      <td id=\"T_b575c_row6_col10\" class=\"data row6 col10\" >0.068</td>\n",
       "    </tr>\n",
       "    <tr>\n",
       "      <th id=\"T_b575c_level0_row7\" class=\"row_heading level0 row7\" >xgboost</th>\n",
       "      <td id=\"T_b575c_row7_col0\" class=\"data row7 col0\" >Extreme Gradient Boosting</td>\n",
       "      <td id=\"T_b575c_row7_col1\" class=\"data row7 col1\" >0.758</td>\n",
       "      <td id=\"T_b575c_row7_col2\" class=\"data row7 col2\" >0.822</td>\n",
       "      <td id=\"T_b575c_row7_col3\" class=\"data row7 col3\" >0.659</td>\n",
       "      <td id=\"T_b575c_row7_col4\" class=\"data row7 col4\" >0.536</td>\n",
       "      <td id=\"T_b575c_row7_col5\" class=\"data row7 col5\" >0.591</td>\n",
       "      <td id=\"T_b575c_row7_col6\" class=\"data row7 col6\" >0.421</td>\n",
       "      <td id=\"T_b575c_row7_col7\" class=\"data row7 col7\" >0.426</td>\n",
       "      <td id=\"T_b575c_row7_col8\" class=\"data row7 col8\" >0.653</td>\n",
       "      <td id=\"T_b575c_row7_col9\" class=\"data row7 col9\" >75618.240</td>\n",
       "      <td id=\"T_b575c_row7_col10\" class=\"data row7 col10\" >0.230</td>\n",
       "    </tr>\n",
       "    <tr>\n",
       "      <th id=\"T_b575c_level0_row8\" class=\"row_heading level0 row8\" >rf</th>\n",
       "      <td id=\"T_b575c_row8_col0\" class=\"data row8 col0\" >Random Forest Classifier</td>\n",
       "      <td id=\"T_b575c_row8_col1\" class=\"data row8 col1\" >0.751</td>\n",
       "      <td id=\"T_b575c_row8_col2\" class=\"data row8 col2\" >0.806</td>\n",
       "      <td id=\"T_b575c_row8_col3\" class=\"data row8 col3\" >0.635</td>\n",
       "      <td id=\"T_b575c_row8_col4\" class=\"data row8 col4\" >0.525</td>\n",
       "      <td id=\"T_b575c_row8_col5\" class=\"data row8 col5\" >0.574</td>\n",
       "      <td id=\"T_b575c_row8_col6\" class=\"data row8 col6\" >0.400</td>\n",
       "      <td id=\"T_b575c_row8_col7\" class=\"data row8 col7\" >0.404</td>\n",
       "      <td id=\"T_b575c_row8_col8\" class=\"data row8 col8\" >0.629</td>\n",
       "      <td id=\"T_b575c_row8_col9\" class=\"data row8 col9\" >79726.720</td>\n",
       "      <td id=\"T_b575c_row8_col10\" class=\"data row8 col10\" >0.144</td>\n",
       "    </tr>\n",
       "    <tr>\n",
       "      <th id=\"T_b575c_level0_row9\" class=\"row_heading level0 row9\" >et</th>\n",
       "      <td id=\"T_b575c_row9_col0\" class=\"data row9 col0\" >Extra Trees Classifier</td>\n",
       "      <td id=\"T_b575c_row9_col1\" class=\"data row9 col1\" >0.743</td>\n",
       "      <td id=\"T_b575c_row9_col2\" class=\"data row9 col2\" >0.778</td>\n",
       "      <td id=\"T_b575c_row9_col3\" class=\"data row9 col3\" >0.609</td>\n",
       "      <td id=\"T_b575c_row9_col4\" class=\"data row9 col4\" >0.513</td>\n",
       "      <td id=\"T_b575c_row9_col5\" class=\"data row9 col5\" >0.557</td>\n",
       "      <td id=\"T_b575c_row9_col6\" class=\"data row9 col6\" >0.378</td>\n",
       "      <td id=\"T_b575c_row9_col7\" class=\"data row9 col7\" >0.381</td>\n",
       "      <td id=\"T_b575c_row9_col8\" class=\"data row9 col8\" >0.604</td>\n",
       "      <td id=\"T_b575c_row9_col9\" class=\"data row9 col9\" >84112.800</td>\n",
       "      <td id=\"T_b575c_row9_col10\" class=\"data row9 col10\" >0.188</td>\n",
       "    </tr>\n",
       "    <tr>\n",
       "      <th id=\"T_b575c_level0_row10\" class=\"row_heading level0 row10\" >ada</th>\n",
       "      <td id=\"T_b575c_row10_col0\" class=\"data row10 col0\" >Ada Boost Classifier</td>\n",
       "      <td id=\"T_b575c_row10_col1\" class=\"data row10 col1\" >0.269</td>\n",
       "      <td id=\"T_b575c_row10_col2\" class=\"data row10 col2\" >0.840</td>\n",
       "      <td id=\"T_b575c_row10_col3\" class=\"data row10 col3\" >0.998</td>\n",
       "      <td id=\"T_b575c_row10_col4\" class=\"data row10 col4\" >0.266</td>\n",
       "      <td id=\"T_b575c_row10_col5\" class=\"data row10 col5\" >0.420</td>\n",
       "      <td id=\"T_b575c_row10_col6\" class=\"data row10 col6\" >0.002</td>\n",
       "      <td id=\"T_b575c_row10_col7\" class=\"data row10 col7\" >0.022</td>\n",
       "      <td id=\"T_b575c_row10_col8\" class=\"data row10 col8\" >0.903</td>\n",
       "      <td id=\"T_b575c_row10_col9\" class=\"data row10 col9\" >91691.280</td>\n",
       "      <td id=\"T_b575c_row10_col10\" class=\"data row10 col10\" >0.098</td>\n",
       "    </tr>\n",
       "    <tr>\n",
       "      <th id=\"T_b575c_level0_row11\" class=\"row_heading level0 row11\" >ridge</th>\n",
       "      <td id=\"T_b575c_row11_col0\" class=\"data row11 col0\" >Ridge Classifier</td>\n",
       "      <td id=\"T_b575c_row11_col1\" class=\"data row11 col1\" >0.793</td>\n",
       "      <td id=\"T_b575c_row11_col2\" class=\"data row11 col2\" >0.000</td>\n",
       "      <td id=\"T_b575c_row11_col3\" class=\"data row11 col3\" >0.499</td>\n",
       "      <td id=\"T_b575c_row11_col4\" class=\"data row11 col4\" >0.640</td>\n",
       "      <td id=\"T_b575c_row11_col5\" class=\"data row11 col5\" >0.561</td>\n",
       "      <td id=\"T_b575c_row11_col6\" class=\"data row11 col6\" >0.428</td>\n",
       "      <td id=\"T_b575c_row11_col7\" class=\"data row11 col7\" >0.434</td>\n",
       "      <td id=\"T_b575c_row11_col8\" class=\"data row11 col8\" >0.503</td>\n",
       "      <td id=\"T_b575c_row11_col9\" class=\"data row11 col9\" >92440.800</td>\n",
       "      <td id=\"T_b575c_row11_col10\" class=\"data row11 col10\" >0.090</td>\n",
       "    </tr>\n",
       "    <tr>\n",
       "      <th id=\"T_b575c_level0_row12\" class=\"row_heading level0 row12\" >dt</th>\n",
       "      <td id=\"T_b575c_row12_col0\" class=\"data row12 col0\" >Decision Tree Classifier</td>\n",
       "      <td id=\"T_b575c_row12_col1\" class=\"data row12 col1\" >0.721</td>\n",
       "      <td id=\"T_b575c_row12_col2\" class=\"data row12 col2\" >0.647</td>\n",
       "      <td id=\"T_b575c_row12_col3\" class=\"data row12 col3\" >0.492</td>\n",
       "      <td id=\"T_b575c_row12_col4\" class=\"data row12 col4\" >0.475</td>\n",
       "      <td id=\"T_b575c_row12_col5\" class=\"data row12 col5\" >0.483</td>\n",
       "      <td id=\"T_b575c_row12_col6\" class=\"data row12 col6\" >0.292</td>\n",
       "      <td id=\"T_b575c_row12_col7\" class=\"data row12 col7\" >0.293</td>\n",
       "      <td id=\"T_b575c_row12_col8\" class=\"data row12 col8\" >0.492</td>\n",
       "      <td id=\"T_b575c_row12_col9\" class=\"data row12 col9\" >102323.360</td>\n",
       "      <td id=\"T_b575c_row12_col10\" class=\"data row12 col10\" >0.466</td>\n",
       "    </tr>\n",
       "  </tbody>\n",
       "</table>\n"
      ],
      "text/plain": [
       "<pandas.io.formats.style.Styler at 0x145804bb0>"
      ]
     },
     "metadata": {},
     "output_type": "display_data"
    },
    {
     "data": {
      "application/vnd.jupyter.widget-view+json": {
       "model_id": "fefac414f03649f69ae32c1b04870bb4",
       "version_major": 2,
       "version_minor": 0
      },
      "text/plain": [
       "Processing:   0%|          | 0/57 [00:00<?, ?it/s]"
      ]
     },
     "metadata": {},
     "output_type": "display_data"
    }
   ],
   "source": [
    "top_baseline_model = exp_baseline.compare_models(sort='Loss', probability_threshold=0.35, round=3, exclude=['dummy', 'lda', 'qda'])"
   ]
  },
  {
   "cell_type": "markdown",
   "metadata": {},
   "source": [
    "**Key Takeaways**\n",
    "\n",
    "The cross-validation comparison highlights the performance of different models, emphasizing the F5 score and loss in USD as critical evaluation metrics. The AdaBoost Classifier achieves the highest F5 score (0.903), reflecting its exceptional capability to prioritize recall over precision, making it suitable for scenarios requiring sensitivity to positive class detection. However, its performance incurs a high monetary loss of 91,691.280 USD, indicating potential misclassification issues that may result in economic inefficiencies. On the other hand, the Naive Bayes (NB) balances F5 (0.802) with a relatively lower loss (58573.6 USD), making it a strong contender for minimizing financial impact while maintaining acceptable sensitivity. The Ridge Classifier shows the highest accuracy but struggles in F5 (0.503) and yields the highest loss (92,440 USD), undermining its reliability. Considering both metrics, Naive Bayes emerges as the best model, offering a practical trade-off between recall-focused performance and economic efficiency."
   ]
  },
  {
   "cell_type": "markdown",
   "metadata": {},
   "source": [
    "We proceed with hyperparameter tuning the top models to get the best possible model."
   ]
  },
  {
   "cell_type": "code",
   "execution_count": 29,
   "metadata": {},
   "outputs": [
    {
     "data": {
      "text/html": [
       "<div>\n",
       "<style scoped>\n",
       "    .dataframe tbody tr th:only-of-type {\n",
       "        vertical-align: middle;\n",
       "    }\n",
       "\n",
       "    .dataframe tbody tr th {\n",
       "        vertical-align: top;\n",
       "    }\n",
       "\n",
       "    .dataframe thead th {\n",
       "        text-align: right;\n",
       "    }\n",
       "</style>\n",
       "<table border=\"1\" class=\"dataframe\">\n",
       "  <thead>\n",
       "    <tr style=\"text-align: right;\">\n",
       "      <th></th>\n",
       "      <th></th>\n",
       "      <th></th>\n",
       "    </tr>\n",
       "    <tr>\n",
       "      <th></th>\n",
       "      <th></th>\n",
       "      <th></th>\n",
       "    </tr>\n",
       "  </thead>\n",
       "  <tbody>\n",
       "    <tr>\n",
       "      <th>Initiated</th>\n",
       "      <td>. . . . . . . . . . . . . . . . . .</td>\n",
       "      <td>09:34:52</td>\n",
       "    </tr>\n",
       "    <tr>\n",
       "      <th>Status</th>\n",
       "      <td>. . . . . . . . . . . . . . . . . .</td>\n",
       "      <td>Loading Dependencies</td>\n",
       "    </tr>\n",
       "    <tr>\n",
       "      <th>Estimator</th>\n",
       "      <td>. . . . . . . . . . . . . . . . . .</td>\n",
       "      <td>Compiling Library</td>\n",
       "    </tr>\n",
       "  </tbody>\n",
       "</table>\n",
       "</div>"
      ],
      "text/plain": [
       "                                                                    \n",
       "                                                                    \n",
       "Initiated  . . . . . . . . . . . . . . . . . .              09:34:52\n",
       "Status     . . . . . . . . . . . . . . . . . .  Loading Dependencies\n",
       "Estimator  . . . . . . . . . . . . . . . . . .     Compiling Library"
      ]
     },
     "metadata": {},
     "output_type": "display_data"
    },
    {
     "data": {
      "text/html": [
       "<style type=\"text/css\">\n",
       "#T_7cbcc_row5_col0, #T_7cbcc_row5_col1, #T_7cbcc_row5_col2, #T_7cbcc_row5_col3, #T_7cbcc_row5_col4, #T_7cbcc_row5_col5, #T_7cbcc_row5_col6, #T_7cbcc_row5_col7, #T_7cbcc_row5_col8 {\n",
       "  background: yellow;\n",
       "}\n",
       "</style>\n",
       "<table id=\"T_7cbcc\">\n",
       "  <thead>\n",
       "    <tr>\n",
       "      <th class=\"blank level0\" >&nbsp;</th>\n",
       "      <th id=\"T_7cbcc_level0_col0\" class=\"col_heading level0 col0\" >Accuracy</th>\n",
       "      <th id=\"T_7cbcc_level0_col1\" class=\"col_heading level0 col1\" >AUC</th>\n",
       "      <th id=\"T_7cbcc_level0_col2\" class=\"col_heading level0 col2\" >Recall</th>\n",
       "      <th id=\"T_7cbcc_level0_col3\" class=\"col_heading level0 col3\" >Prec.</th>\n",
       "      <th id=\"T_7cbcc_level0_col4\" class=\"col_heading level0 col4\" >F1</th>\n",
       "      <th id=\"T_7cbcc_level0_col5\" class=\"col_heading level0 col5\" >Kappa</th>\n",
       "      <th id=\"T_7cbcc_level0_col6\" class=\"col_heading level0 col6\" >MCC</th>\n",
       "      <th id=\"T_7cbcc_level0_col7\" class=\"col_heading level0 col7\" >F5</th>\n",
       "      <th id=\"T_7cbcc_level0_col8\" class=\"col_heading level0 col8\" >Loss (in USD)</th>\n",
       "    </tr>\n",
       "    <tr>\n",
       "      <th class=\"index_name level0\" >Fold</th>\n",
       "      <th class=\"blank col0\" >&nbsp;</th>\n",
       "      <th class=\"blank col1\" >&nbsp;</th>\n",
       "      <th class=\"blank col2\" >&nbsp;</th>\n",
       "      <th class=\"blank col3\" >&nbsp;</th>\n",
       "      <th class=\"blank col4\" >&nbsp;</th>\n",
       "      <th class=\"blank col5\" >&nbsp;</th>\n",
       "      <th class=\"blank col6\" >&nbsp;</th>\n",
       "      <th class=\"blank col7\" >&nbsp;</th>\n",
       "      <th class=\"blank col8\" >&nbsp;</th>\n",
       "    </tr>\n",
       "  </thead>\n",
       "  <tbody>\n",
       "    <tr>\n",
       "      <th id=\"T_7cbcc_level0_row0\" class=\"row_heading level0 row0\" >0</th>\n",
       "      <td id=\"T_7cbcc_row0_col0\" class=\"data row0 col0\" >0.7228</td>\n",
       "      <td id=\"T_7cbcc_row0_col1\" class=\"data row0 col1\" >0.8306</td>\n",
       "      <td id=\"T_7cbcc_row0_col2\" class=\"data row0 col2\" >0.8083</td>\n",
       "      <td id=\"T_7cbcc_row0_col3\" class=\"data row0 col3\" >0.4874</td>\n",
       "      <td id=\"T_7cbcc_row0_col4\" class=\"data row0 col4\" >0.6082</td>\n",
       "      <td id=\"T_7cbcc_row0_col5\" class=\"data row0 col5\" >0.4134</td>\n",
       "      <td id=\"T_7cbcc_row0_col6\" class=\"data row0 col6\" >0.4451</td>\n",
       "      <td id=\"T_7cbcc_row0_col7\" class=\"data row0 col7\" >0.7884</td>\n",
       "      <td id=\"T_7cbcc_row0_col8\" class=\"data row0 col8\" >60239.2000</td>\n",
       "    </tr>\n",
       "    <tr>\n",
       "      <th id=\"T_7cbcc_level0_row1\" class=\"row_heading level0 row1\" >1</th>\n",
       "      <td id=\"T_7cbcc_row1_col0\" class=\"data row1 col0\" >0.7095</td>\n",
       "      <td id=\"T_7cbcc_row1_col1\" class=\"data row1 col1\" >0.8121</td>\n",
       "      <td id=\"T_7cbcc_row1_col2\" class=\"data row1 col2\" >0.7657</td>\n",
       "      <td id=\"T_7cbcc_row1_col3\" class=\"data row1 col3\" >0.4704</td>\n",
       "      <td id=\"T_7cbcc_row1_col4\" class=\"data row1 col4\" >0.5828</td>\n",
       "      <td id=\"T_7cbcc_row1_col5\" class=\"data row1 col5\" >0.3789</td>\n",
       "      <td id=\"T_7cbcc_row1_col6\" class=\"data row1 col6\" >0.4054</td>\n",
       "      <td id=\"T_7cbcc_row1_col7\" class=\"data row1 col7\" >0.7476</td>\n",
       "      <td id=\"T_7cbcc_row1_col8\" class=\"data row1 col8\" >67456.8000</td>\n",
       "    </tr>\n",
       "    <tr>\n",
       "      <th id=\"T_7cbcc_level0_row2\" class=\"row_heading level0 row2\" >2</th>\n",
       "      <td id=\"T_7cbcc_row2_col0\" class=\"data row2 col0\" >0.7381</td>\n",
       "      <td id=\"T_7cbcc_row2_col1\" class=\"data row2 col1\" >0.8523</td>\n",
       "      <td id=\"T_7cbcc_row2_col2\" class=\"data row2 col2\" >0.8368</td>\n",
       "      <td id=\"T_7cbcc_row2_col3\" class=\"data row2 col3\" >0.5038</td>\n",
       "      <td id=\"T_7cbcc_row2_col4\" class=\"data row2 col4\" >0.6289</td>\n",
       "      <td id=\"T_7cbcc_row2_col5\" class=\"data row2 col5\" >0.4452</td>\n",
       "      <td id=\"T_7cbcc_row2_col6\" class=\"data row2 col6\" >0.4795</td>\n",
       "      <td id=\"T_7cbcc_row2_col7\" class=\"data row2 col7\" >0.8161</td>\n",
       "      <td id=\"T_7cbcc_row2_col8\" class=\"data row2 col8\" >54409.6000</td>\n",
       "    </tr>\n",
       "    <tr>\n",
       "      <th id=\"T_7cbcc_level0_row3\" class=\"row_heading level0 row3\" >3</th>\n",
       "      <td id=\"T_7cbcc_row3_col0\" class=\"data row3 col0\" >0.7081</td>\n",
       "      <td id=\"T_7cbcc_row3_col1\" class=\"data row3 col1\" >0.8180</td>\n",
       "      <td id=\"T_7cbcc_row3_col2\" class=\"data row3 col2\" >0.8368</td>\n",
       "      <td id=\"T_7cbcc_row3_col3\" class=\"data row3 col3\" >0.4717</td>\n",
       "      <td id=\"T_7cbcc_row3_col4\" class=\"data row3 col4\" >0.6033</td>\n",
       "      <td id=\"T_7cbcc_row3_col5\" class=\"data row3 col5\" >0.3996</td>\n",
       "      <td id=\"T_7cbcc_row3_col6\" class=\"data row3 col6\" >0.4409</td>\n",
       "      <td id=\"T_7cbcc_row3_col7\" class=\"data row3 col7\" >0.8126</td>\n",
       "      <td id=\"T_7cbcc_row3_col8\" class=\"data row3 col8\" >58157.2000</td>\n",
       "    </tr>\n",
       "    <tr>\n",
       "      <th id=\"T_7cbcc_level0_row4\" class=\"row_heading level0 row4\" >4</th>\n",
       "      <td id=\"T_7cbcc_row4_col0\" class=\"data row4 col0\" >0.7181</td>\n",
       "      <td id=\"T_7cbcc_row4_col1\" class=\"data row4 col1\" >0.8444</td>\n",
       "      <td id=\"T_7cbcc_row4_col2\" class=\"data row4 col2\" >0.8703</td>\n",
       "      <td id=\"T_7cbcc_row4_col3\" class=\"data row4 col3\" >0.4826</td>\n",
       "      <td id=\"T_7cbcc_row4_col4\" class=\"data row4 col4\" >0.6209</td>\n",
       "      <td id=\"T_7cbcc_row4_col5\" class=\"data row4 col5\" >0.4245</td>\n",
       "      <td id=\"T_7cbcc_row4_col6\" class=\"data row4 col6\" >0.4714</td>\n",
       "      <td id=\"T_7cbcc_row4_col7\" class=\"data row4 col7\" >0.8442</td>\n",
       "      <td id=\"T_7cbcc_row4_col8\" class=\"data row4 col8\" >52466.4000</td>\n",
       "    </tr>\n",
       "    <tr>\n",
       "      <th id=\"T_7cbcc_level0_row5\" class=\"row_heading level0 row5\" >Mean</th>\n",
       "      <td id=\"T_7cbcc_row5_col0\" class=\"data row5 col0\" >0.7193</td>\n",
       "      <td id=\"T_7cbcc_row5_col1\" class=\"data row5 col1\" >0.8315</td>\n",
       "      <td id=\"T_7cbcc_row5_col2\" class=\"data row5 col2\" >0.8236</td>\n",
       "      <td id=\"T_7cbcc_row5_col3\" class=\"data row5 col3\" >0.4832</td>\n",
       "      <td id=\"T_7cbcc_row5_col4\" class=\"data row5 col4\" >0.6088</td>\n",
       "      <td id=\"T_7cbcc_row5_col5\" class=\"data row5 col5\" >0.4123</td>\n",
       "      <td id=\"T_7cbcc_row5_col6\" class=\"data row5 col6\" >0.4485</td>\n",
       "      <td id=\"T_7cbcc_row5_col7\" class=\"data row5 col7\" >0.8018</td>\n",
       "      <td id=\"T_7cbcc_row5_col8\" class=\"data row5 col8\" >58545.8400</td>\n",
       "    </tr>\n",
       "    <tr>\n",
       "      <th id=\"T_7cbcc_level0_row6\" class=\"row_heading level0 row6\" >Std</th>\n",
       "      <td id=\"T_7cbcc_row6_col0\" class=\"data row6 col0\" >0.0108</td>\n",
       "      <td id=\"T_7cbcc_row6_col1\" class=\"data row6 col1\" >0.0152</td>\n",
       "      <td id=\"T_7cbcc_row6_col2\" class=\"data row6 col2\" >0.0350</td>\n",
       "      <td id=\"T_7cbcc_row6_col3\" class=\"data row6 col3\" >0.0121</td>\n",
       "      <td id=\"T_7cbcc_row6_col4\" class=\"data row6 col4\" >0.0159</td>\n",
       "      <td id=\"T_7cbcc_row6_col5\" class=\"data row6 col5\" >0.0224</td>\n",
       "      <td id=\"T_7cbcc_row6_col6\" class=\"data row6 col6\" >0.0261</td>\n",
       "      <td id=\"T_7cbcc_row6_col7\" class=\"data row6 col7\" >0.0324</td>\n",
       "      <td id=\"T_7cbcc_row6_col8\" class=\"data row6 col8\" >5224.7830</td>\n",
       "    </tr>\n",
       "  </tbody>\n",
       "</table>\n"
      ],
      "text/plain": [
       "<pandas.io.formats.style.Styler at 0x32857a0a0>"
      ]
     },
     "metadata": {},
     "output_type": "display_data"
    },
    {
     "data": {
      "application/vnd.jupyter.widget-view+json": {
       "model_id": "7b3f8184ce91466fa2e36558f8766c5e",
       "version_major": 2,
       "version_minor": 0
      },
      "text/plain": [
       "Processing:   0%|          | 0/7 [00:00<?, ?it/s]"
      ]
     },
     "metadata": {},
     "output_type": "display_data"
    },
    {
     "name": "stdout",
     "output_type": "stream",
     "text": [
      "Fitting 5 folds for each of 9 candidates, totalling 45 fits\n",
      "Original model was better than the tuned model, hence it will be returned. NOTE: The display metrics are for the tuned model (not the original one).\n"
     ]
    }
   ],
   "source": [
    "# hyperparameter tuning process for top model using `GridSearchCV`\n",
    "tune_baseline_model = exp_baseline.tune_model(\n",
    "    estimator=top_baseline_model, \n",
    "    optimize='Loss', \n",
    "    custom_grid={'var_smoothing': [1e-9, 1e-8, 1e-7, 1e-6, 1e-5, 1e-4, 1e-3, 1e-2, 1e-1]},\n",
    "    search_algorithm='grid'\n",
    ")\n",
    "\n",
    "# save the result\n",
    "cv_top_baseline = exp_baseline.pull()"
   ]
  },
  {
   "cell_type": "markdown",
   "metadata": {},
   "source": [
    "**Key Takeaways**\n",
    "\n",
    "The comparison of the cross-validation results before and after hyperparameter tuning reveals that there was no improvement in performance. Both the F5 score and Loss in USD remain identical before and after tuning, with the F5 score at 0.8018 and the loss at 58,545.84 USD. This indicates that the hyperparameter tuning did not lead to any noticeable enhancement in the model's ability to balance recall and precision, nor did it affect the financial loss incurred. Consequently, the original model outperforms the tuned model, as there was no tangible benefit from the tuning process."
   ]
  },
  {
   "cell_type": "code",
   "execution_count": 30,
   "metadata": {},
   "outputs": [
    {
     "data": {
      "text/html": [
       "<div>\n",
       "<style scoped>\n",
       "    .dataframe tbody tr th:only-of-type {\n",
       "        vertical-align: middle;\n",
       "    }\n",
       "\n",
       "    .dataframe tbody tr th {\n",
       "        vertical-align: top;\n",
       "    }\n",
       "\n",
       "    .dataframe thead th {\n",
       "        text-align: right;\n",
       "    }\n",
       "</style>\n",
       "<table border=\"1\" class=\"dataframe\">\n",
       "  <thead>\n",
       "    <tr style=\"text-align: right;\">\n",
       "      <th></th>\n",
       "      <th>Experiment</th>\n",
       "      <th>FP</th>\n",
       "      <th>FN</th>\n",
       "      <th>F5</th>\n",
       "      <th>Loss (in USD)</th>\n",
       "    </tr>\n",
       "  </thead>\n",
       "  <tbody>\n",
       "    <tr>\n",
       "      <th>0</th>\n",
       "      <td>Train Score</td>\n",
       "      <td>1096</td>\n",
       "      <td>194</td>\n",
       "      <td>0.814176</td>\n",
       "      <td>286760.8</td>\n",
       "    </tr>\n",
       "    <tr>\n",
       "      <th>1</th>\n",
       "      <td>Validation Score</td>\n",
       "      <td>279</td>\n",
       "      <td>45</td>\n",
       "      <td>0.824675</td>\n",
       "      <td>69955.2</td>\n",
       "    </tr>\n",
       "  </tbody>\n",
       "</table>\n",
       "</div>"
      ],
      "text/plain": [
       "         Experiment    FP   FN        F5  Loss (in USD)\n",
       "0       Train Score  1096  194  0.814176       286760.8\n",
       "1  Validation Score   279   45  0.824675        69955.2"
      ]
     },
     "execution_count": 30,
     "metadata": {},
     "output_type": "execute_result"
    }
   ],
   "source": [
    "pd.concat(\n",
    "    objs=[\n",
    "        compute_result(\n",
    "            exp_baseline.predict_model(estimator=tune_baseline_model, data=train_baseline_set, encoded_labels=True, verbose=False), 'Train Score'),\n",
    "        compute_result(\n",
    "            exp_baseline.predict_model(estimator=tune_baseline_model, data=val_baseline_set, encoded_labels=True, verbose=False), 'Validation Score'),\n",
    "    ],\n",
    ").reset_index(drop=True)"
   ]
  },
  {
   "cell_type": "markdown",
   "metadata": {},
   "source": [
    "**Key Takeaways**\n",
    "\n",
    "The model's performance shows consistency between training, validation, and cross-validation results, with the F5 score slightly improving in the validation set (0.8247) compared to the training set (0.8142). This suggests the model generalizes well without significant overfitting. The cross-validation F5 score of 0.8018 ± 0.0324 aligns closely with these results, further reinforcing the model's stability across different data splits. These findings indicate that the model maintains good precision and recall, balancing its performance effectively, particularly when applied to unseen data."
   ]
  },
  {
   "cell_type": "markdown",
   "metadata": {},
   "source": [
    "### **4.4 Experiment 2: Synthetic Minority Oversampling Technique (SMOTE)**\n",
    "\n",
    "Since the distribution of target variable is uneven, balancing the proportion of distribution is vital. Synthetic Minority Over-sampling Technique (SMOTE) is an oversampling technique to address an imbalance problem in dataset. In short, SMOTE generate synthetic samples from the minority class to balance its distribution by using *k*-Nearest Neighbor of samples from the minority class ([Chawla et al, 2002, p.328](https://doi.org/10.1613/jair.953)). Here we experiment using SMOTE to handle the imbalanced problem in our target variable. By exploiting this sampling technique, we expect that the model can perform better in identifying both classes (1 and 0). And as a result, the model can make better predictions for the class with lower frequency. "
   ]
  },
  {
   "cell_type": "code",
   "execution_count": 31,
   "metadata": {},
   "outputs": [],
   "source": [
    "from imblearn.over_sampling import SMOTE\n",
    "\n",
    "# init setup baseline model\n",
    "exp_smote = ClassificationExperiment()\n",
    "exp_smote.setup(**configs, fix_imbalance=True, fix_imbalance_method=SMOTE(random_state=42))\n",
    "\n",
    "# add F4 and total cost as a metric evaluation \n",
    "exp_smote.add_metric(id='F5', name='F5', score_func=fbeta_score, beta=5)\n",
    "exp_smote.add_metric(id='Loss', name='Loss (in USD)', score_func=total_cost, greater_is_better=False)\n",
    "\n",
    "# get validation train and validation set\n",
    "train_smote_set = exp_smote.get_config('train')\n",
    "val_smote_set = exp_smote.get_config('test')"
   ]
  },
  {
   "cell_type": "markdown",
   "metadata": {},
   "source": [
    "Here, we compare different models to identify performance level."
   ]
  },
  {
   "cell_type": "code",
   "execution_count": 32,
   "metadata": {},
   "outputs": [
    {
     "data": {
      "text/html": [],
      "text/plain": [
       "<IPython.core.display.HTML object>"
      ]
     },
     "metadata": {},
     "output_type": "display_data"
    },
    {
     "data": {
      "text/html": [
       "<style type=\"text/css\">\n",
       "#T_975a9 th {\n",
       "  text-align: left;\n",
       "}\n",
       "#T_975a9_row0_col0, #T_975a9_row0_col1, #T_975a9_row0_col2, #T_975a9_row0_col3, #T_975a9_row0_col4, #T_975a9_row0_col5, #T_975a9_row0_col6, #T_975a9_row0_col7, #T_975a9_row0_col8, #T_975a9_row0_col9, #T_975a9_row1_col0, #T_975a9_row1_col1, #T_975a9_row1_col2, #T_975a9_row1_col3, #T_975a9_row1_col4, #T_975a9_row1_col5, #T_975a9_row1_col6, #T_975a9_row1_col7, #T_975a9_row1_col8, #T_975a9_row1_col9, #T_975a9_row2_col0, #T_975a9_row2_col1, #T_975a9_row2_col2, #T_975a9_row2_col3, #T_975a9_row2_col4, #T_975a9_row2_col5, #T_975a9_row2_col6, #T_975a9_row2_col7, #T_975a9_row2_col8, #T_975a9_row2_col9, #T_975a9_row3_col0, #T_975a9_row3_col1, #T_975a9_row3_col2, #T_975a9_row3_col3, #T_975a9_row3_col4, #T_975a9_row3_col5, #T_975a9_row3_col6, #T_975a9_row3_col7, #T_975a9_row3_col8, #T_975a9_row3_col9, #T_975a9_row4_col0, #T_975a9_row4_col3, #T_975a9_row4_col4, #T_975a9_row4_col8, #T_975a9_row4_col9, #T_975a9_row5_col0, #T_975a9_row5_col1, #T_975a9_row5_col2, #T_975a9_row5_col3, #T_975a9_row5_col5, #T_975a9_row5_col6, #T_975a9_row5_col7, #T_975a9_row5_col8, #T_975a9_row5_col9, #T_975a9_row6_col0, #T_975a9_row6_col1, #T_975a9_row6_col2, #T_975a9_row6_col3, #T_975a9_row6_col4, #T_975a9_row6_col5, #T_975a9_row6_col6, #T_975a9_row6_col7, #T_975a9_row6_col8, #T_975a9_row6_col9, #T_975a9_row7_col0, #T_975a9_row7_col1, #T_975a9_row7_col2, #T_975a9_row7_col3, #T_975a9_row7_col4, #T_975a9_row7_col5, #T_975a9_row7_col6, #T_975a9_row7_col7, #T_975a9_row7_col8, #T_975a9_row7_col9, #T_975a9_row8_col0, #T_975a9_row8_col1, #T_975a9_row8_col2, #T_975a9_row8_col3, #T_975a9_row8_col4, #T_975a9_row8_col5, #T_975a9_row8_col6, #T_975a9_row8_col7, #T_975a9_row8_col8, #T_975a9_row8_col9, #T_975a9_row9_col0, #T_975a9_row9_col1, #T_975a9_row9_col2, #T_975a9_row9_col3, #T_975a9_row9_col4, #T_975a9_row9_col5, #T_975a9_row9_col6, #T_975a9_row9_col7, #T_975a9_row9_col8, #T_975a9_row9_col9, #T_975a9_row10_col0, #T_975a9_row10_col1, #T_975a9_row10_col2, #T_975a9_row10_col3, #T_975a9_row10_col4, #T_975a9_row10_col5, #T_975a9_row10_col6, #T_975a9_row10_col7, #T_975a9_row10_col8, #T_975a9_row10_col9, #T_975a9_row11_col0, #T_975a9_row11_col1, #T_975a9_row11_col2, #T_975a9_row11_col4, #T_975a9_row11_col5, #T_975a9_row11_col6, #T_975a9_row11_col7, #T_975a9_row11_col9, #T_975a9_row12_col0, #T_975a9_row12_col1, #T_975a9_row12_col2, #T_975a9_row12_col3, #T_975a9_row12_col4, #T_975a9_row12_col5, #T_975a9_row12_col6, #T_975a9_row12_col7, #T_975a9_row12_col8 {\n",
       "  text-align: left;\n",
       "}\n",
       "#T_975a9_row0_col10, #T_975a9_row2_col10, #T_975a9_row3_col10, #T_975a9_row4_col10, #T_975a9_row5_col10, #T_975a9_row6_col10, #T_975a9_row7_col10, #T_975a9_row8_col10, #T_975a9_row9_col10, #T_975a9_row10_col10, #T_975a9_row11_col10, #T_975a9_row12_col10 {\n",
       "  text-align: left;\n",
       "  background-color: lightgrey;\n",
       "}\n",
       "#T_975a9_row1_col10 {\n",
       "  text-align: left;\n",
       "  background-color: yellow;\n",
       "  background-color: lightgrey;\n",
       "}\n",
       "#T_975a9_row4_col1, #T_975a9_row4_col2, #T_975a9_row4_col5, #T_975a9_row4_col6, #T_975a9_row4_col7, #T_975a9_row5_col4, #T_975a9_row11_col3, #T_975a9_row11_col8, #T_975a9_row12_col9 {\n",
       "  text-align: left;\n",
       "  background-color: yellow;\n",
       "}\n",
       "</style>\n",
       "<table id=\"T_975a9\">\n",
       "  <thead>\n",
       "    <tr>\n",
       "      <th class=\"blank level0\" >&nbsp;</th>\n",
       "      <th id=\"T_975a9_level0_col0\" class=\"col_heading level0 col0\" >Model</th>\n",
       "      <th id=\"T_975a9_level0_col1\" class=\"col_heading level0 col1\" >Accuracy</th>\n",
       "      <th id=\"T_975a9_level0_col2\" class=\"col_heading level0 col2\" >AUC</th>\n",
       "      <th id=\"T_975a9_level0_col3\" class=\"col_heading level0 col3\" >Recall</th>\n",
       "      <th id=\"T_975a9_level0_col4\" class=\"col_heading level0 col4\" >Prec.</th>\n",
       "      <th id=\"T_975a9_level0_col5\" class=\"col_heading level0 col5\" >F1</th>\n",
       "      <th id=\"T_975a9_level0_col6\" class=\"col_heading level0 col6\" >Kappa</th>\n",
       "      <th id=\"T_975a9_level0_col7\" class=\"col_heading level0 col7\" >MCC</th>\n",
       "      <th id=\"T_975a9_level0_col8\" class=\"col_heading level0 col8\" >F5</th>\n",
       "      <th id=\"T_975a9_level0_col9\" class=\"col_heading level0 col9\" >Loss (in USD)</th>\n",
       "      <th id=\"T_975a9_level0_col10\" class=\"col_heading level0 col10\" >TT (Sec)</th>\n",
       "    </tr>\n",
       "  </thead>\n",
       "  <tbody>\n",
       "    <tr>\n",
       "      <th id=\"T_975a9_level0_row0\" class=\"row_heading level0 row0\" >lr</th>\n",
       "      <td id=\"T_975a9_row0_col0\" class=\"data row0 col0\" >Logistic Regression</td>\n",
       "      <td id=\"T_975a9_row0_col1\" class=\"data row0 col1\" >0.684</td>\n",
       "      <td id=\"T_975a9_row0_col2\" class=\"data row0 col2\" >0.840</td>\n",
       "      <td id=\"T_975a9_row0_col3\" class=\"data row0 col3\" >0.904</td>\n",
       "      <td id=\"T_975a9_row0_col4\" class=\"data row0 col4\" >0.453</td>\n",
       "      <td id=\"T_975a9_row0_col5\" class=\"data row0 col5\" >0.603</td>\n",
       "      <td id=\"T_975a9_row0_col6\" class=\"data row0 col6\" >0.386</td>\n",
       "      <td id=\"T_975a9_row0_col7\" class=\"data row0 col7\" >0.451</td>\n",
       "      <td id=\"T_975a9_row0_col8\" class=\"data row0 col8\" >0.870</td>\n",
       "      <td id=\"T_975a9_row0_col9\" class=\"data row0 col9\" >52244.320</td>\n",
       "      <td id=\"T_975a9_row0_col10\" class=\"data row0 col10\" >0.132</td>\n",
       "    </tr>\n",
       "    <tr>\n",
       "      <th id=\"T_975a9_level0_row1\" class=\"row_heading level0 row1\" >ridge</th>\n",
       "      <td id=\"T_975a9_row1_col0\" class=\"data row1 col0\" >Ridge Classifier</td>\n",
       "      <td id=\"T_975a9_row1_col1\" class=\"data row1 col1\" >0.729</td>\n",
       "      <td id=\"T_975a9_row1_col2\" class=\"data row1 col2\" >0.000</td>\n",
       "      <td id=\"T_975a9_row1_col3\" class=\"data row1 col3\" >0.811</td>\n",
       "      <td id=\"T_975a9_row1_col4\" class=\"data row1 col4\" >0.494</td>\n",
       "      <td id=\"T_975a9_row1_col5\" class=\"data row1 col5\" >0.614</td>\n",
       "      <td id=\"T_975a9_row1_col6\" class=\"data row1 col6\" >0.424</td>\n",
       "      <td id=\"T_975a9_row1_col7\" class=\"data row1 col7\" >0.455</td>\n",
       "      <td id=\"T_975a9_row1_col8\" class=\"data row1 col8\" >0.791</td>\n",
       "      <td id=\"T_975a9_row1_col9\" class=\"data row1 col9\" >58962.240</td>\n",
       "      <td id=\"T_975a9_row1_col10\" class=\"data row1 col10\" >0.088</td>\n",
       "    </tr>\n",
       "    <tr>\n",
       "      <th id=\"T_975a9_level0_row2\" class=\"row_heading level0 row2\" >svm</th>\n",
       "      <td id=\"T_975a9_row2_col0\" class=\"data row2 col0\" >SVM - Linear Kernel</td>\n",
       "      <td id=\"T_975a9_row2_col1\" class=\"data row2 col1\" >0.727</td>\n",
       "      <td id=\"T_975a9_row2_col2\" class=\"data row2 col2\" >0.000</td>\n",
       "      <td id=\"T_975a9_row2_col3\" class=\"data row2 col3\" >0.808</td>\n",
       "      <td id=\"T_975a9_row2_col4\" class=\"data row2 col4\" >0.493</td>\n",
       "      <td id=\"T_975a9_row2_col5\" class=\"data row2 col5\" >0.612</td>\n",
       "      <td id=\"T_975a9_row2_col6\" class=\"data row2 col6\" >0.420</td>\n",
       "      <td id=\"T_975a9_row2_col7\" class=\"data row2 col7\" >0.451</td>\n",
       "      <td id=\"T_975a9_row2_col8\" class=\"data row2 col8\" >0.788</td>\n",
       "      <td id=\"T_975a9_row2_col9\" class=\"data row2 col9\" >59656.240</td>\n",
       "      <td id=\"T_975a9_row2_col10\" class=\"data row2 col10\" >0.122</td>\n",
       "    </tr>\n",
       "    <tr>\n",
       "      <th id=\"T_975a9_level0_row3\" class=\"row_heading level0 row3\" >nb</th>\n",
       "      <td id=\"T_975a9_row3_col0\" class=\"data row3 col0\" >Naive Bayes</td>\n",
       "      <td id=\"T_975a9_row3_col1\" class=\"data row3 col1\" >0.729</td>\n",
       "      <td id=\"T_975a9_row3_col2\" class=\"data row3 col2\" >0.823</td>\n",
       "      <td id=\"T_975a9_row3_col3\" class=\"data row3 col3\" >0.798</td>\n",
       "      <td id=\"T_975a9_row3_col4\" class=\"data row3 col4\" >0.494</td>\n",
       "      <td id=\"T_975a9_row3_col5\" class=\"data row3 col5\" >0.610</td>\n",
       "      <td id=\"T_975a9_row3_col6\" class=\"data row3 col6\" >0.419</td>\n",
       "      <td id=\"T_975a9_row3_col7\" class=\"data row3 col7\" >0.448</td>\n",
       "      <td id=\"T_975a9_row3_col8\" class=\"data row3 col8\" >0.779</td>\n",
       "      <td id=\"T_975a9_row3_col9\" class=\"data row3 col9\" >60822.160</td>\n",
       "      <td id=\"T_975a9_row3_col10\" class=\"data row3 col10\" >0.106</td>\n",
       "    </tr>\n",
       "    <tr>\n",
       "      <th id=\"T_975a9_level0_row4\" class=\"row_heading level0 row4\" >gbc</th>\n",
       "      <td id=\"T_975a9_row4_col0\" class=\"data row4 col0\" >Gradient Boosting Classifier</td>\n",
       "      <td id=\"T_975a9_row4_col1\" class=\"data row4 col1\" >0.761</td>\n",
       "      <td id=\"T_975a9_row4_col2\" class=\"data row4 col2\" >0.841</td>\n",
       "      <td id=\"T_975a9_row4_col3\" class=\"data row4 col3\" >0.760</td>\n",
       "      <td id=\"T_975a9_row4_col4\" class=\"data row4 col4\" >0.535</td>\n",
       "      <td id=\"T_975a9_row4_col5\" class=\"data row4 col5\" >0.628</td>\n",
       "      <td id=\"T_975a9_row4_col6\" class=\"data row4 col6\" >0.459</td>\n",
       "      <td id=\"T_975a9_row4_col7\" class=\"data row4 col7\" >0.475</td>\n",
       "      <td id=\"T_975a9_row4_col8\" class=\"data row4 col8\" >0.748</td>\n",
       "      <td id=\"T_975a9_row4_col9\" class=\"data row4 col9\" >61793.760</td>\n",
       "      <td id=\"T_975a9_row4_col10\" class=\"data row4 col10\" >0.116</td>\n",
       "    </tr>\n",
       "    <tr>\n",
       "      <th id=\"T_975a9_level0_row5\" class=\"row_heading level0 row5\" >catboost</th>\n",
       "      <td id=\"T_975a9_row5_col0\" class=\"data row5 col0\" >CatBoost Classifier</td>\n",
       "      <td id=\"T_975a9_row5_col1\" class=\"data row5 col1\" >0.760</td>\n",
       "      <td id=\"T_975a9_row5_col2\" class=\"data row5 col2\" >0.835</td>\n",
       "      <td id=\"T_975a9_row5_col3\" class=\"data row5 col3\" >0.726</td>\n",
       "      <td id=\"T_975a9_row5_col4\" class=\"data row5 col4\" >0.536</td>\n",
       "      <td id=\"T_975a9_row5_col5\" class=\"data row5 col5\" >0.616</td>\n",
       "      <td id=\"T_975a9_row5_col6\" class=\"data row5 col6\" >0.448</td>\n",
       "      <td id=\"T_975a9_row5_col7\" class=\"data row5 col7\" >0.459</td>\n",
       "      <td id=\"T_975a9_row5_col8\" class=\"data row5 col8\" >0.716</td>\n",
       "      <td id=\"T_975a9_row5_col9\" class=\"data row5 col9\" >66429.680</td>\n",
       "      <td id=\"T_975a9_row5_col10\" class=\"data row5 col10\" >0.154</td>\n",
       "    </tr>\n",
       "    <tr>\n",
       "      <th id=\"T_975a9_level0_row6\" class=\"row_heading level0 row6\" >knn</th>\n",
       "      <td id=\"T_975a9_row6_col0\" class=\"data row6 col0\" >K Neighbors Classifier</td>\n",
       "      <td id=\"T_975a9_row6_col1\" class=\"data row6 col1\" >0.699</td>\n",
       "      <td id=\"T_975a9_row6_col2\" class=\"data row6 col2\" >0.775</td>\n",
       "      <td id=\"T_975a9_row6_col3\" class=\"data row6 col3\" >0.779</td>\n",
       "      <td id=\"T_975a9_row6_col4\" class=\"data row6 col4\" >0.461</td>\n",
       "      <td id=\"T_975a9_row6_col5\" class=\"data row6 col5\" >0.579</td>\n",
       "      <td id=\"T_975a9_row6_col6\" class=\"data row6 col6\" >0.368</td>\n",
       "      <td id=\"T_975a9_row6_col7\" class=\"data row6 col7\" >0.399</td>\n",
       "      <td id=\"T_975a9_row6_col8\" class=\"data row6 col8\" >0.759</td>\n",
       "      <td id=\"T_975a9_row6_col9\" class=\"data row6 col9\" >66984.880</td>\n",
       "      <td id=\"T_975a9_row6_col10\" class=\"data row6 col10\" >0.146</td>\n",
       "    </tr>\n",
       "    <tr>\n",
       "      <th id=\"T_975a9_level0_row7\" class=\"row_heading level0 row7\" >lightgbm</th>\n",
       "      <td id=\"T_975a9_row7_col0\" class=\"data row7 col0\" >Light Gradient Boosting Machine</td>\n",
       "      <td id=\"T_975a9_row7_col1\" class=\"data row7 col1\" >0.759</td>\n",
       "      <td id=\"T_975a9_row7_col2\" class=\"data row7 col2\" >0.828</td>\n",
       "      <td id=\"T_975a9_row7_col3\" class=\"data row7 col3\" >0.722</td>\n",
       "      <td id=\"T_975a9_row7_col4\" class=\"data row7 col4\" >0.534</td>\n",
       "      <td id=\"T_975a9_row7_col5\" class=\"data row7 col5\" >0.614</td>\n",
       "      <td id=\"T_975a9_row7_col6\" class=\"data row7 col6\" >0.445</td>\n",
       "      <td id=\"T_975a9_row7_col7\" class=\"data row7 col7\" >0.455</td>\n",
       "      <td id=\"T_975a9_row7_col8\" class=\"data row7 col8\" >0.713</td>\n",
       "      <td id=\"T_975a9_row7_col9\" class=\"data row7 col9\" >67012.640</td>\n",
       "      <td id=\"T_975a9_row7_col10\" class=\"data row7 col10\" >0.134</td>\n",
       "    </tr>\n",
       "    <tr>\n",
       "      <th id=\"T_975a9_level0_row8\" class=\"row_heading level0 row8\" >xgboost</th>\n",
       "      <td id=\"T_975a9_row8_col0\" class=\"data row8 col0\" >Extreme Gradient Boosting</td>\n",
       "      <td id=\"T_975a9_row8_col1\" class=\"data row8 col1\" >0.756</td>\n",
       "      <td id=\"T_975a9_row8_col2\" class=\"data row8 col2\" >0.823</td>\n",
       "      <td id=\"T_975a9_row8_col3\" class=\"data row8 col3\" >0.691</td>\n",
       "      <td id=\"T_975a9_row8_col4\" class=\"data row8 col4\" >0.532</td>\n",
       "      <td id=\"T_975a9_row8_col5\" class=\"data row8 col5\" >0.601</td>\n",
       "      <td id=\"T_975a9_row8_col6\" class=\"data row8 col6\" >0.430</td>\n",
       "      <td id=\"T_975a9_row8_col7\" class=\"data row8 col7\" >0.437</td>\n",
       "      <td id=\"T_975a9_row8_col8\" class=\"data row8 col8\" >0.684</td>\n",
       "      <td id=\"T_975a9_row8_col9\" class=\"data row8 col9\" >71482.000</td>\n",
       "      <td id=\"T_975a9_row8_col10\" class=\"data row8 col10\" >0.150</td>\n",
       "    </tr>\n",
       "    <tr>\n",
       "      <th id=\"T_975a9_level0_row9\" class=\"row_heading level0 row9\" >rf</th>\n",
       "      <td id=\"T_975a9_row9_col0\" class=\"data row9 col0\" >Random Forest Classifier</td>\n",
       "      <td id=\"T_975a9_row9_col1\" class=\"data row9 col1\" >0.751</td>\n",
       "      <td id=\"T_975a9_row9_col2\" class=\"data row9 col2\" >0.805</td>\n",
       "      <td id=\"T_975a9_row9_col3\" class=\"data row9 col3\" >0.645</td>\n",
       "      <td id=\"T_975a9_row9_col4\" class=\"data row9 col4\" >0.526</td>\n",
       "      <td id=\"T_975a9_row9_col5\" class=\"data row9 col5\" >0.579</td>\n",
       "      <td id=\"T_975a9_row9_col6\" class=\"data row9 col6\" >0.404</td>\n",
       "      <td id=\"T_975a9_row9_col7\" class=\"data row9 col7\" >0.409</td>\n",
       "      <td id=\"T_975a9_row9_col8\" class=\"data row9 col8\" >0.639</td>\n",
       "      <td id=\"T_975a9_row9_col9\" class=\"data row9 col9\" >78394.240</td>\n",
       "      <td id=\"T_975a9_row9_col10\" class=\"data row9 col10\" >0.170</td>\n",
       "    </tr>\n",
       "    <tr>\n",
       "      <th id=\"T_975a9_level0_row10\" class=\"row_heading level0 row10\" >et</th>\n",
       "      <td id=\"T_975a9_row10_col0\" class=\"data row10 col0\" >Extra Trees Classifier</td>\n",
       "      <td id=\"T_975a9_row10_col1\" class=\"data row10 col1\" >0.736</td>\n",
       "      <td id=\"T_975a9_row10_col2\" class=\"data row10 col2\" >0.772</td>\n",
       "      <td id=\"T_975a9_row10_col3\" class=\"data row10 col3\" >0.605</td>\n",
       "      <td id=\"T_975a9_row10_col4\" class=\"data row10 col4\" >0.503</td>\n",
       "      <td id=\"T_975a9_row10_col5\" class=\"data row10 col5\" >0.549</td>\n",
       "      <td id=\"T_975a9_row10_col6\" class=\"data row10 col6\" >0.365</td>\n",
       "      <td id=\"T_975a9_row10_col7\" class=\"data row10 col7\" >0.368</td>\n",
       "      <td id=\"T_975a9_row10_col8\" class=\"data row10 col8\" >0.601</td>\n",
       "      <td id=\"T_975a9_row10_col9\" class=\"data row10 col9\" >85389.760</td>\n",
       "      <td id=\"T_975a9_row10_col10\" class=\"data row10 col10\" >0.188</td>\n",
       "    </tr>\n",
       "    <tr>\n",
       "      <th id=\"T_975a9_level0_row11\" class=\"row_heading level0 row11\" >ada</th>\n",
       "      <td id=\"T_975a9_row11_col0\" class=\"data row11 col0\" >Ada Boost Classifier</td>\n",
       "      <td id=\"T_975a9_row11_col1\" class=\"data row11 col1\" >0.265</td>\n",
       "      <td id=\"T_975a9_row11_col2\" class=\"data row11 col2\" >0.837</td>\n",
       "      <td id=\"T_975a9_row11_col3\" class=\"data row11 col3\" >1.000</td>\n",
       "      <td id=\"T_975a9_row11_col4\" class=\"data row11 col4\" >0.265</td>\n",
       "      <td id=\"T_975a9_row11_col5\" class=\"data row11 col5\" >0.419</td>\n",
       "      <td id=\"T_975a9_row11_col6\" class=\"data row11 col6\" >0.000</td>\n",
       "      <td id=\"T_975a9_row11_col7\" class=\"data row11 col7\" >0.000</td>\n",
       "      <td id=\"T_975a9_row11_col8\" class=\"data row11 col8\" >0.904</td>\n",
       "      <td id=\"T_975a9_row11_col9\" class=\"data row11 col9\" >91913.360</td>\n",
       "      <td id=\"T_975a9_row11_col10\" class=\"data row11 col10\" >0.138</td>\n",
       "    </tr>\n",
       "    <tr>\n",
       "      <th id=\"T_975a9_level0_row12\" class=\"row_heading level0 row12\" >dt</th>\n",
       "      <td id=\"T_975a9_row12_col0\" class=\"data row12 col0\" >Decision Tree Classifier</td>\n",
       "      <td id=\"T_975a9_row12_col1\" class=\"data row12 col1\" >0.732</td>\n",
       "      <td id=\"T_975a9_row12_col2\" class=\"data row12 col2\" >0.660</td>\n",
       "      <td id=\"T_975a9_row12_col3\" class=\"data row12 col3\" >0.507</td>\n",
       "      <td id=\"T_975a9_row12_col4\" class=\"data row12 col4\" >0.495</td>\n",
       "      <td id=\"T_975a9_row12_col5\" class=\"data row12 col5\" >0.501</td>\n",
       "      <td id=\"T_975a9_row12_col6\" class=\"data row12 col6\" >0.318</td>\n",
       "      <td id=\"T_975a9_row12_col7\" class=\"data row12 col7\" >0.318</td>\n",
       "      <td id=\"T_975a9_row12_col8\" class=\"data row12 col8\" >0.506</td>\n",
       "      <td id=\"T_975a9_row12_col9\" class=\"data row12 col9\" >99047.680</td>\n",
       "      <td id=\"T_975a9_row12_col10\" class=\"data row12 col10\" >0.112</td>\n",
       "    </tr>\n",
       "  </tbody>\n",
       "</table>\n"
      ],
      "text/plain": [
       "<pandas.io.formats.style.Styler at 0x3186f4610>"
      ]
     },
     "metadata": {},
     "output_type": "display_data"
    },
    {
     "data": {
      "application/vnd.jupyter.widget-view+json": {
       "model_id": "12838ada66f64dbba139510cfb2a98d1",
       "version_major": 2,
       "version_minor": 0
      },
      "text/plain": [
       "Processing:   0%|          | 0/57 [00:00<?, ?it/s]"
      ]
     },
     "metadata": {},
     "output_type": "display_data"
    }
   ],
   "source": [
    "top_smote_model = exp_smote.compare_models(sort='Loss', probability_threshold=0.35, round=3, exclude=['dummy', 'lda', 'qda'])"
   ]
  },
  {
   "cell_type": "markdown",
   "metadata": {},
   "source": [
    "**Key Takeaways**\n",
    "\n",
    "Based on the cross-validation results, the Logistic Regression (LR) model outperforms other models in terms of the F5 metric (0.870) and achieves the lowest financial loss (USD 52,244.32). The high F5 score indicates that LR balances recall and precision effectively, prioritizing recall to reduce false negatives, which is crucial in minimizing losses. While CatBoost Classifier (F5 = 0.716, Loss = USD 66,429.68) and Gradient Boosting Classifier (F5 = 0.748, Loss = USD 61,793.76) show comparable performance in terms of F5, they result in higher losses compared to LR. Other models, such as AdaBoost (F5 = 0.904), achieve high recall but at the expense of significantly higher loss (USD 91,913.36), indicating an imbalance in precision and recall. Overall, Logistic Regression is the best-performing model, delivering the optimal balance between minimizing financial loss and maintaining a high F5 score."
   ]
  },
  {
   "cell_type": "markdown",
   "metadata": {},
   "source": [
    "We proceed with hyperparameter tuning the top models to get the best possible model."
   ]
  },
  {
   "cell_type": "code",
   "execution_count": 33,
   "metadata": {},
   "outputs": [
    {
     "data": {
      "text/html": [],
      "text/plain": [
       "<IPython.core.display.HTML object>"
      ]
     },
     "metadata": {},
     "output_type": "display_data"
    },
    {
     "data": {
      "text/html": [
       "<style type=\"text/css\">\n",
       "#T_fde7a_row5_col0, #T_fde7a_row5_col1, #T_fde7a_row5_col2, #T_fde7a_row5_col3, #T_fde7a_row5_col4, #T_fde7a_row5_col5, #T_fde7a_row5_col6, #T_fde7a_row5_col7, #T_fde7a_row5_col8 {\n",
       "  background: yellow;\n",
       "}\n",
       "</style>\n",
       "<table id=\"T_fde7a\">\n",
       "  <thead>\n",
       "    <tr>\n",
       "      <th class=\"blank level0\" >&nbsp;</th>\n",
       "      <th id=\"T_fde7a_level0_col0\" class=\"col_heading level0 col0\" >Accuracy</th>\n",
       "      <th id=\"T_fde7a_level0_col1\" class=\"col_heading level0 col1\" >AUC</th>\n",
       "      <th id=\"T_fde7a_level0_col2\" class=\"col_heading level0 col2\" >Recall</th>\n",
       "      <th id=\"T_fde7a_level0_col3\" class=\"col_heading level0 col3\" >Prec.</th>\n",
       "      <th id=\"T_fde7a_level0_col4\" class=\"col_heading level0 col4\" >F1</th>\n",
       "      <th id=\"T_fde7a_level0_col5\" class=\"col_heading level0 col5\" >Kappa</th>\n",
       "      <th id=\"T_fde7a_level0_col6\" class=\"col_heading level0 col6\" >MCC</th>\n",
       "      <th id=\"T_fde7a_level0_col7\" class=\"col_heading level0 col7\" >F5</th>\n",
       "      <th id=\"T_fde7a_level0_col8\" class=\"col_heading level0 col8\" >Loss (in USD)</th>\n",
       "    </tr>\n",
       "    <tr>\n",
       "      <th class=\"index_name level0\" >Fold</th>\n",
       "      <th class=\"blank col0\" >&nbsp;</th>\n",
       "      <th class=\"blank col1\" >&nbsp;</th>\n",
       "      <th class=\"blank col2\" >&nbsp;</th>\n",
       "      <th class=\"blank col3\" >&nbsp;</th>\n",
       "      <th class=\"blank col4\" >&nbsp;</th>\n",
       "      <th class=\"blank col5\" >&nbsp;</th>\n",
       "      <th class=\"blank col6\" >&nbsp;</th>\n",
       "      <th class=\"blank col7\" >&nbsp;</th>\n",
       "      <th class=\"blank col8\" >&nbsp;</th>\n",
       "    </tr>\n",
       "  </thead>\n",
       "  <tbody>\n",
       "    <tr>\n",
       "      <th id=\"T_fde7a_level0_row0\" class=\"row_heading level0 row0\" >0</th>\n",
       "      <td id=\"T_fde7a_row0_col0\" class=\"data row0 col0\" >0.6707</td>\n",
       "      <td id=\"T_fde7a_row0_col1\" class=\"data row0 col1\" >0.8338</td>\n",
       "      <td id=\"T_fde7a_row0_col2\" class=\"data row0 col2\" >0.9125</td>\n",
       "      <td id=\"T_fde7a_row0_col3\" class=\"data row0 col3\" >0.4424</td>\n",
       "      <td id=\"T_fde7a_row0_col4\" class=\"data row0 col4\" >0.5959</td>\n",
       "      <td id=\"T_fde7a_row0_col5\" class=\"data row0 col5\" >0.3702</td>\n",
       "      <td id=\"T_fde7a_row0_col6\" class=\"data row0 col6\" >0.4401</td>\n",
       "      <td id=\"T_fde7a_row0_col7\" class=\"data row0 col7\" >0.8767</td>\n",
       "      <td id=\"T_fde7a_row0_col8\" class=\"data row0 col8\" >52882.8000</td>\n",
       "    </tr>\n",
       "    <tr>\n",
       "      <th id=\"T_fde7a_level0_row1\" class=\"row_heading level0 row1\" >1</th>\n",
       "      <td id=\"T_fde7a_row1_col0\" class=\"data row1 col0\" >0.6718</td>\n",
       "      <td id=\"T_fde7a_row1_col1\" class=\"data row1 col1\" >0.8182</td>\n",
       "      <td id=\"T_fde7a_row1_col2\" class=\"data row1 col2\" >0.8619</td>\n",
       "      <td id=\"T_fde7a_row1_col3\" class=\"data row1 col3\" >0.4392</td>\n",
       "      <td id=\"T_fde7a_row1_col4\" class=\"data row1 col4\" >0.5819</td>\n",
       "      <td id=\"T_fde7a_row1_col5\" class=\"data row1 col5\" >0.3558</td>\n",
       "      <td id=\"T_fde7a_row1_col6\" class=\"data row1 col6\" >0.4110</td>\n",
       "      <td id=\"T_fde7a_row1_col7\" class=\"data row1 col7\" >0.8312</td>\n",
       "      <td id=\"T_fde7a_row1_col8\" class=\"data row1 col8\" >59406.4000</td>\n",
       "    </tr>\n",
       "    <tr>\n",
       "      <th id=\"T_fde7a_level0_row2\" class=\"row_heading level0 row2\" >2</th>\n",
       "      <td id=\"T_fde7a_row2_col0\" class=\"data row2 col0\" >0.7081</td>\n",
       "      <td id=\"T_fde7a_row2_col1\" class=\"data row2 col1\" >0.8568</td>\n",
       "      <td id=\"T_fde7a_row2_col2\" class=\"data row2 col2\" >0.9163</td>\n",
       "      <td id=\"T_fde7a_row2_col3\" class=\"data row2 col3\" >0.4740</td>\n",
       "      <td id=\"T_fde7a_row2_col4\" class=\"data row2 col4\" >0.6248</td>\n",
       "      <td id=\"T_fde7a_row2_col5\" class=\"data row2 col5\" >0.4231</td>\n",
       "      <td id=\"T_fde7a_row2_col6\" class=\"data row2 col6\" >0.4851</td>\n",
       "      <td id=\"T_fde7a_row2_col7\" class=\"data row2 col7\" >0.8846</td>\n",
       "      <td id=\"T_fde7a_row2_col8\" class=\"data row2 col8\" >47608.4000</td>\n",
       "    </tr>\n",
       "    <tr>\n",
       "      <th id=\"T_fde7a_level0_row3\" class=\"row_heading level0 row3\" >3</th>\n",
       "      <td id=\"T_fde7a_row3_col0\" class=\"data row3 col0\" >0.6970</td>\n",
       "      <td id=\"T_fde7a_row3_col1\" class=\"data row3 col1\" >0.8415</td>\n",
       "      <td id=\"T_fde7a_row3_col2\" class=\"data row3 col2\" >0.9038</td>\n",
       "      <td id=\"T_fde7a_row3_col3\" class=\"data row3 col3\" >0.4635</td>\n",
       "      <td id=\"T_fde7a_row3_col4\" class=\"data row3 col4\" >0.6128</td>\n",
       "      <td id=\"T_fde7a_row3_col5\" class=\"data row3 col5\" >0.4036</td>\n",
       "      <td id=\"T_fde7a_row3_col6\" class=\"data row3 col6\" >0.4648</td>\n",
       "      <td id=\"T_fde7a_row3_col7\" class=\"data row3 col7\" >0.8719</td>\n",
       "      <td id=\"T_fde7a_row3_col8\" class=\"data row3 col8\" >50662.0000</td>\n",
       "    </tr>\n",
       "    <tr>\n",
       "      <th id=\"T_fde7a_level0_row4\" class=\"row_heading level0 row4\" >4</th>\n",
       "      <td id=\"T_fde7a_row4_col0\" class=\"data row4 col0\" >0.6759</td>\n",
       "      <td id=\"T_fde7a_row4_col1\" class=\"data row4 col1\" >0.8480</td>\n",
       "      <td id=\"T_fde7a_row4_col2\" class=\"data row4 col2\" >0.9247</td>\n",
       "      <td id=\"T_fde7a_row4_col3\" class=\"data row4 col3\" >0.4465</td>\n",
       "      <td id=\"T_fde7a_row4_col4\" class=\"data row4 col4\" >0.6022</td>\n",
       "      <td id=\"T_fde7a_row4_col5\" class=\"data row4 col5\" >0.3806</td>\n",
       "      <td id=\"T_fde7a_row4_col6\" class=\"data row4 col6\" >0.4532</td>\n",
       "      <td id=\"T_fde7a_row4_col7\" class=\"data row4 col7\" >0.8881</td>\n",
       "      <td id=\"T_fde7a_row4_col8\" class=\"data row4 col8\" >50523.2000</td>\n",
       "    </tr>\n",
       "    <tr>\n",
       "      <th id=\"T_fde7a_level0_row5\" class=\"row_heading level0 row5\" >Mean</th>\n",
       "      <td id=\"T_fde7a_row5_col0\" class=\"data row5 col0\" >0.6847</td>\n",
       "      <td id=\"T_fde7a_row5_col1\" class=\"data row5 col1\" >0.8397</td>\n",
       "      <td id=\"T_fde7a_row5_col2\" class=\"data row5 col2\" >0.9038</td>\n",
       "      <td id=\"T_fde7a_row5_col3\" class=\"data row5 col3\" >0.4531</td>\n",
       "      <td id=\"T_fde7a_row5_col4\" class=\"data row5 col4\" >0.6035</td>\n",
       "      <td id=\"T_fde7a_row5_col5\" class=\"data row5 col5\" >0.3867</td>\n",
       "      <td id=\"T_fde7a_row5_col6\" class=\"data row5 col6\" >0.4508</td>\n",
       "      <td id=\"T_fde7a_row5_col7\" class=\"data row5 col7\" >0.8705</td>\n",
       "      <td id=\"T_fde7a_row5_col8\" class=\"data row5 col8\" >52216.5600</td>\n",
       "    </tr>\n",
       "    <tr>\n",
       "      <th id=\"T_fde7a_level0_row6\" class=\"row_heading level0 row6\" >Std</th>\n",
       "      <td id=\"T_fde7a_row6_col0\" class=\"data row6 col0\" >0.0151</td>\n",
       "      <td id=\"T_fde7a_row6_col1\" class=\"data row6 col1\" >0.0131</td>\n",
       "      <td id=\"T_fde7a_row6_col2\" class=\"data row6 col2\" >0.0220</td>\n",
       "      <td id=\"T_fde7a_row6_col3\" class=\"data row6 col3\" >0.0134</td>\n",
       "      <td id=\"T_fde7a_row6_col4\" class=\"data row6 col4\" >0.0146</td>\n",
       "      <td id=\"T_fde7a_row6_col5\" class=\"data row6 col5\" >0.0240</td>\n",
       "      <td id=\"T_fde7a_row6_col6\" class=\"data row6 col6\" >0.0248</td>\n",
       "      <td id=\"T_fde7a_row6_col7\" class=\"data row6 col7\" >0.0205</td>\n",
       "      <td id=\"T_fde7a_row6_col8\" class=\"data row6 col8\" >3966.2813</td>\n",
       "    </tr>\n",
       "  </tbody>\n",
       "</table>\n"
      ],
      "text/plain": [
       "<pandas.io.formats.style.Styler at 0x31d9c3ca0>"
      ]
     },
     "metadata": {},
     "output_type": "display_data"
    },
    {
     "data": {
      "application/vnd.jupyter.widget-view+json": {
       "model_id": "b5122e444cb24cbc82725a45e1873f52",
       "version_major": 2,
       "version_minor": 0
      },
      "text/plain": [
       "Processing:   0%|          | 0/7 [00:00<?, ?it/s]"
      ]
     },
     "metadata": {},
     "output_type": "display_data"
    },
    {
     "name": "stdout",
     "output_type": "stream",
     "text": [
      "Fitting 5 folds for each of 180 candidates, totalling 900 fits\n"
     ]
    }
   ],
   "source": [
    "# hyperparameter tuning process for top model using `GridSearchCV`\n",
    "tune_smote_model = exp_smote.tune_model(\n",
    "    estimator=top_smote_model, \n",
    "    optimize='Loss', \n",
    "    custom_grid={\n",
    "        'penalty': ['l1', 'l2', 'elasticnet', None],\n",
    "        'C': [0.01, 0.1, 1, 10, 100],\n",
    "        'solver': ['lbfgs', 'liblinear', 'saga'],\n",
    "        'l1_ratio': [0.1, 0.5, 0.9]\n",
    "    },\n",
    "    search_algorithm='grid'\n",
    ")\n",
    "\n",
    "# save the result\n",
    "cv_top_smote = exp_smote.pull()"
   ]
  },
  {
   "cell_type": "markdown",
   "metadata": {},
   "source": [
    "**Key Takeaways**\n",
    "\n",
    "The comparison between cross-validation results before and after hyperparameter tuning demonstrates a slight improvement in the model's performance. The F5 score increases marginally from 0.8700 to 0.8705, indicating a minor enhancement in the model's ability to balance recall and precision, particularly for recall-sensitive tasks. Additionally, the loss in USD decreases from 52,244.320 to 52,216.560, suggesting a modest reduction in the financial impact of misclassifications. While the improvements are not substantial, the tuning process has yielded incremental benefits, making the model slightly more effective and cost-efficient."
   ]
  },
  {
   "cell_type": "code",
   "execution_count": 34,
   "metadata": {},
   "outputs": [
    {
     "data": {
      "text/html": [
       "<div>\n",
       "<style scoped>\n",
       "    .dataframe tbody tr th:only-of-type {\n",
       "        vertical-align: middle;\n",
       "    }\n",
       "\n",
       "    .dataframe tbody tr th {\n",
       "        vertical-align: top;\n",
       "    }\n",
       "\n",
       "    .dataframe thead th {\n",
       "        text-align: right;\n",
       "    }\n",
       "</style>\n",
       "<table border=\"1\" class=\"dataframe\">\n",
       "  <thead>\n",
       "    <tr style=\"text-align: right;\">\n",
       "      <th></th>\n",
       "      <th>Experiment</th>\n",
       "      <th>FP</th>\n",
       "      <th>FN</th>\n",
       "      <th>F5</th>\n",
       "      <th>Loss (in USD)</th>\n",
       "    </tr>\n",
       "  </thead>\n",
       "  <tbody>\n",
       "    <tr>\n",
       "      <th>0</th>\n",
       "      <td>Train Score</td>\n",
       "      <td>1326</td>\n",
       "      <td>110</td>\n",
       "      <td>0.873855</td>\n",
       "      <td>260388.8</td>\n",
       "    </tr>\n",
       "    <tr>\n",
       "      <th>1</th>\n",
       "      <td>Validation Score</td>\n",
       "      <td>335</td>\n",
       "      <td>27</td>\n",
       "      <td>0.875031</td>\n",
       "      <td>65236.0</td>\n",
       "    </tr>\n",
       "  </tbody>\n",
       "</table>\n",
       "</div>"
      ],
      "text/plain": [
       "         Experiment    FP   FN        F5  Loss (in USD)\n",
       "0       Train Score  1326  110  0.873855       260388.8\n",
       "1  Validation Score   335   27  0.875031        65236.0"
      ]
     },
     "execution_count": 34,
     "metadata": {},
     "output_type": "execute_result"
    }
   ],
   "source": [
    "pd.concat(\n",
    "    objs=[\n",
    "        compute_result(\n",
    "            exp_smote.predict_model(estimator=tune_smote_model, data=train_smote_set, encoded_labels=True, verbose=False), 'Train Score'),\n",
    "        compute_result(\n",
    "            exp_smote.predict_model(estimator=tune_smote_model, data=val_smote_set, encoded_labels=True, verbose=False), 'Validation Score'),\n",
    "    ],\n",
    ").reset_index(drop=True)"
   ]
  },
  {
   "cell_type": "markdown",
   "metadata": {},
   "source": [
    "**Key Takeaways**\n",
    "\n",
    "The model exhibits strong performance with an F5 score of 0.8738 on the training data and 0.8750 on the validation data, indicating good generalization and consistency between training and validation sets. The cross-validation results, with an F5 score of 0.8705 ± 0.0205, show that the model's performance is stable across different folds, with only a slight variation. This suggests that the model is robust and not overfitting, as the training and validation scores are close, and the cross-validation results provide further assurance of its reliability across multiple data splits."
   ]
  },
  {
   "cell_type": "markdown",
   "metadata": {},
   "source": [
    "### **4.5 Experiment 3: NearMiss Version 3**\n",
    "In this experiment, we exploit how NearMiss, particularly version 3, handles the imbalance class problem in the training set. NearMiss version 3 addresses imbalance class problem by under-sampling the size of the majority class. It uses kNN to find the closest instances from the majority class to each minority class instance ([Mani & Zhang, 2003](http://dx.doi.org/10.4236/jilsa.2015.74010)). After the identification, it keeps those majority class instances closest to the minority class instances. The process continues until the distribution of both classes find balance."
   ]
  },
  {
   "cell_type": "code",
   "execution_count": 35,
   "metadata": {},
   "outputs": [],
   "source": [
    "from imblearn.under_sampling import NearMiss\n",
    "\n",
    "# init setup baseline model\n",
    "exp_nearmiss = ClassificationExperiment()\n",
    "exp_nearmiss.setup(**configs, fix_imbalance=True, fix_imbalance_method=NearMiss(version=3))\n",
    "\n",
    "# add F4 and total cost as a metric evaluation \n",
    "exp_nearmiss.add_metric(id='F5', name='F5', score_func=fbeta_score, beta=5)\n",
    "exp_nearmiss.add_metric(id='Loss', name='Loss (in USD)', score_func=total_cost, greater_is_better=False)\n",
    "\n",
    "# get validation train and validation set\n",
    "train_nearmiss_set = exp_nearmiss.get_config('train')\n",
    "val_nearmiss_set = exp_nearmiss.get_config('test')"
   ]
  },
  {
   "cell_type": "markdown",
   "metadata": {},
   "source": [
    "Here, we compare different models to identify performance level."
   ]
  },
  {
   "cell_type": "code",
   "execution_count": 36,
   "metadata": {},
   "outputs": [
    {
     "data": {
      "text/html": [],
      "text/plain": [
       "<IPython.core.display.HTML object>"
      ]
     },
     "metadata": {},
     "output_type": "display_data"
    },
    {
     "data": {
      "text/html": [
       "<style type=\"text/css\">\n",
       "#T_cf2cd th {\n",
       "  text-align: left;\n",
       "}\n",
       "#T_cf2cd_row0_col0, #T_cf2cd_row0_col1, #T_cf2cd_row0_col2, #T_cf2cd_row0_col3, #T_cf2cd_row0_col4, #T_cf2cd_row0_col5, #T_cf2cd_row0_col6, #T_cf2cd_row0_col7, #T_cf2cd_row0_col8, #T_cf2cd_row0_col9, #T_cf2cd_row1_col0, #T_cf2cd_row1_col1, #T_cf2cd_row1_col2, #T_cf2cd_row1_col3, #T_cf2cd_row1_col4, #T_cf2cd_row1_col5, #T_cf2cd_row1_col6, #T_cf2cd_row1_col7, #T_cf2cd_row1_col8, #T_cf2cd_row1_col9, #T_cf2cd_row2_col0, #T_cf2cd_row2_col1, #T_cf2cd_row2_col3, #T_cf2cd_row2_col4, #T_cf2cd_row2_col5, #T_cf2cd_row2_col6, #T_cf2cd_row2_col7, #T_cf2cd_row2_col8, #T_cf2cd_row2_col9, #T_cf2cd_row3_col0, #T_cf2cd_row3_col1, #T_cf2cd_row3_col2, #T_cf2cd_row3_col3, #T_cf2cd_row3_col4, #T_cf2cd_row3_col5, #T_cf2cd_row3_col6, #T_cf2cd_row3_col7, #T_cf2cd_row3_col8, #T_cf2cd_row3_col9, #T_cf2cd_row4_col0, #T_cf2cd_row4_col2, #T_cf2cd_row4_col3, #T_cf2cd_row4_col8, #T_cf2cd_row4_col9, #T_cf2cd_row5_col0, #T_cf2cd_row5_col1, #T_cf2cd_row5_col2, #T_cf2cd_row5_col3, #T_cf2cd_row5_col4, #T_cf2cd_row5_col5, #T_cf2cd_row5_col6, #T_cf2cd_row5_col7, #T_cf2cd_row5_col8, #T_cf2cd_row5_col9, #T_cf2cd_row6_col0, #T_cf2cd_row6_col1, #T_cf2cd_row6_col2, #T_cf2cd_row6_col3, #T_cf2cd_row6_col4, #T_cf2cd_row6_col5, #T_cf2cd_row6_col6, #T_cf2cd_row6_col7, #T_cf2cd_row6_col8, #T_cf2cd_row6_col9, #T_cf2cd_row7_col0, #T_cf2cd_row7_col1, #T_cf2cd_row7_col2, #T_cf2cd_row7_col3, #T_cf2cd_row7_col4, #T_cf2cd_row7_col5, #T_cf2cd_row7_col6, #T_cf2cd_row7_col7, #T_cf2cd_row7_col8, #T_cf2cd_row7_col9, #T_cf2cd_row8_col0, #T_cf2cd_row8_col1, #T_cf2cd_row8_col2, #T_cf2cd_row8_col3, #T_cf2cd_row8_col4, #T_cf2cd_row8_col5, #T_cf2cd_row8_col6, #T_cf2cd_row8_col7, #T_cf2cd_row8_col8, #T_cf2cd_row8_col9, #T_cf2cd_row9_col0, #T_cf2cd_row9_col1, #T_cf2cd_row9_col2, #T_cf2cd_row9_col3, #T_cf2cd_row9_col4, #T_cf2cd_row9_col5, #T_cf2cd_row9_col6, #T_cf2cd_row9_col7, #T_cf2cd_row9_col8, #T_cf2cd_row9_col9, #T_cf2cd_row10_col0, #T_cf2cd_row10_col1, #T_cf2cd_row10_col2, #T_cf2cd_row10_col3, #T_cf2cd_row10_col4, #T_cf2cd_row10_col5, #T_cf2cd_row10_col6, #T_cf2cd_row10_col7, #T_cf2cd_row10_col8, #T_cf2cd_row10_col9, #T_cf2cd_row11_col0, #T_cf2cd_row11_col1, #T_cf2cd_row11_col2, #T_cf2cd_row11_col3, #T_cf2cd_row11_col4, #T_cf2cd_row11_col5, #T_cf2cd_row11_col6, #T_cf2cd_row11_col7, #T_cf2cd_row11_col8, #T_cf2cd_row11_col9, #T_cf2cd_row12_col0, #T_cf2cd_row12_col1, #T_cf2cd_row12_col2, #T_cf2cd_row12_col4, #T_cf2cd_row12_col5, #T_cf2cd_row12_col6, #T_cf2cd_row12_col7 {\n",
       "  text-align: left;\n",
       "}\n",
       "#T_cf2cd_row0_col10, #T_cf2cd_row1_col10, #T_cf2cd_row2_col10, #T_cf2cd_row3_col10, #T_cf2cd_row5_col10, #T_cf2cd_row6_col10, #T_cf2cd_row7_col10, #T_cf2cd_row8_col10, #T_cf2cd_row9_col10, #T_cf2cd_row10_col10, #T_cf2cd_row11_col10, #T_cf2cd_row12_col10 {\n",
       "  text-align: left;\n",
       "  background-color: lightgrey;\n",
       "}\n",
       "#T_cf2cd_row2_col2, #T_cf2cd_row4_col1, #T_cf2cd_row4_col4, #T_cf2cd_row4_col5, #T_cf2cd_row4_col6, #T_cf2cd_row4_col7, #T_cf2cd_row12_col3, #T_cf2cd_row12_col8, #T_cf2cd_row12_col9 {\n",
       "  text-align: left;\n",
       "  background-color: yellow;\n",
       "}\n",
       "#T_cf2cd_row4_col10 {\n",
       "  text-align: left;\n",
       "  background-color: yellow;\n",
       "  background-color: lightgrey;\n",
       "}\n",
       "</style>\n",
       "<table id=\"T_cf2cd\">\n",
       "  <thead>\n",
       "    <tr>\n",
       "      <th class=\"blank level0\" >&nbsp;</th>\n",
       "      <th id=\"T_cf2cd_level0_col0\" class=\"col_heading level0 col0\" >Model</th>\n",
       "      <th id=\"T_cf2cd_level0_col1\" class=\"col_heading level0 col1\" >Accuracy</th>\n",
       "      <th id=\"T_cf2cd_level0_col2\" class=\"col_heading level0 col2\" >AUC</th>\n",
       "      <th id=\"T_cf2cd_level0_col3\" class=\"col_heading level0 col3\" >Recall</th>\n",
       "      <th id=\"T_cf2cd_level0_col4\" class=\"col_heading level0 col4\" >Prec.</th>\n",
       "      <th id=\"T_cf2cd_level0_col5\" class=\"col_heading level0 col5\" >F1</th>\n",
       "      <th id=\"T_cf2cd_level0_col6\" class=\"col_heading level0 col6\" >Kappa</th>\n",
       "      <th id=\"T_cf2cd_level0_col7\" class=\"col_heading level0 col7\" >MCC</th>\n",
       "      <th id=\"T_cf2cd_level0_col8\" class=\"col_heading level0 col8\" >F5</th>\n",
       "      <th id=\"T_cf2cd_level0_col9\" class=\"col_heading level0 col9\" >Loss (in USD)</th>\n",
       "      <th id=\"T_cf2cd_level0_col10\" class=\"col_heading level0 col10\" >TT (Sec)</th>\n",
       "    </tr>\n",
       "  </thead>\n",
       "  <tbody>\n",
       "    <tr>\n",
       "      <th id=\"T_cf2cd_level0_row0\" class=\"row_heading level0 row0\" >nb</th>\n",
       "      <td id=\"T_cf2cd_row0_col0\" class=\"data row0 col0\" >Naive Bayes</td>\n",
       "      <td id=\"T_cf2cd_row0_col1\" class=\"data row0 col1\" >0.678</td>\n",
       "      <td id=\"T_cf2cd_row0_col2\" class=\"data row0 col2\" >0.815</td>\n",
       "      <td id=\"T_cf2cd_row0_col3\" class=\"data row0 col3\" >0.877</td>\n",
       "      <td id=\"T_cf2cd_row0_col4\" class=\"data row0 col4\" >0.446</td>\n",
       "      <td id=\"T_cf2cd_row0_col5\" class=\"data row0 col5\" >0.591</td>\n",
       "      <td id=\"T_cf2cd_row0_col6\" class=\"data row0 col6\" >0.369</td>\n",
       "      <td id=\"T_cf2cd_row0_col7\" class=\"data row0 col7\" >0.427</td>\n",
       "      <td id=\"T_cf2cd_row0_col8\" class=\"data row0 col8\" >0.846</td>\n",
       "      <td id=\"T_cf2cd_row0_col9\" class=\"data row0 col9\" >56602.640</td>\n",
       "      <td id=\"T_cf2cd_row0_col10\" class=\"data row0 col10\" >0.166</td>\n",
       "    </tr>\n",
       "    <tr>\n",
       "      <th id=\"T_cf2cd_level0_row1\" class=\"row_heading level0 row1\" >catboost</th>\n",
       "      <td id=\"T_cf2cd_row1_col0\" class=\"data row1 col0\" >CatBoost Classifier</td>\n",
       "      <td id=\"T_cf2cd_row1_col1\" class=\"data row1 col1\" >0.644</td>\n",
       "      <td id=\"T_cf2cd_row1_col2\" class=\"data row1 col2\" >0.809</td>\n",
       "      <td id=\"T_cf2cd_row1_col3\" class=\"data row1 col3\" >0.906</td>\n",
       "      <td id=\"T_cf2cd_row1_col4\" class=\"data row1 col4\" >0.421</td>\n",
       "      <td id=\"T_cf2cd_row1_col5\" class=\"data row1 col5\" >0.574</td>\n",
       "      <td id=\"T_cf2cd_row1_col6\" class=\"data row1 col6\" >0.333</td>\n",
       "      <td id=\"T_cf2cd_row1_col7\" class=\"data row1 col7\" >0.406</td>\n",
       "      <td id=\"T_cf2cd_row1_col8\" class=\"data row1 col8\" >0.867</td>\n",
       "      <td id=\"T_cf2cd_row1_col9\" class=\"data row1 col9\" >57102.320</td>\n",
       "      <td id=\"T_cf2cd_row1_col10\" class=\"data row1 col10\" >0.150</td>\n",
       "    </tr>\n",
       "    <tr>\n",
       "      <th id=\"T_cf2cd_level0_row2\" class=\"row_heading level0 row2\" >lr</th>\n",
       "      <td id=\"T_cf2cd_row2_col0\" class=\"data row2 col0\" >Logistic Regression</td>\n",
       "      <td id=\"T_cf2cd_row2_col1\" class=\"data row2 col1\" >0.634</td>\n",
       "      <td id=\"T_cf2cd_row2_col2\" class=\"data row2 col2\" >0.824</td>\n",
       "      <td id=\"T_cf2cd_row2_col3\" class=\"data row2 col3\" >0.911</td>\n",
       "      <td id=\"T_cf2cd_row2_col4\" class=\"data row2 col4\" >0.414</td>\n",
       "      <td id=\"T_cf2cd_row2_col5\" class=\"data row2 col5\" >0.569</td>\n",
       "      <td id=\"T_cf2cd_row2_col6\" class=\"data row2 col6\" >0.322</td>\n",
       "      <td id=\"T_cf2cd_row2_col7\" class=\"data row2 col7\" >0.399</td>\n",
       "      <td id=\"T_cf2cd_row2_col8\" class=\"data row2 col8\" >0.870</td>\n",
       "      <td id=\"T_cf2cd_row2_col9\" class=\"data row2 col9\" >57657.520</td>\n",
       "      <td id=\"T_cf2cd_row2_col10\" class=\"data row2 col10\" >0.156</td>\n",
       "    </tr>\n",
       "    <tr>\n",
       "      <th id=\"T_cf2cd_level0_row3\" class=\"row_heading level0 row3\" >gbc</th>\n",
       "      <td id=\"T_cf2cd_row3_col0\" class=\"data row3 col0\" >Gradient Boosting Classifier</td>\n",
       "      <td id=\"T_cf2cd_row3_col1\" class=\"data row3 col1\" >0.638</td>\n",
       "      <td id=\"T_cf2cd_row3_col2\" class=\"data row3 col2\" >0.811</td>\n",
       "      <td id=\"T_cf2cd_row3_col3\" class=\"data row3 col3\" >0.903</td>\n",
       "      <td id=\"T_cf2cd_row3_col4\" class=\"data row3 col4\" >0.416</td>\n",
       "      <td id=\"T_cf2cd_row3_col5\" class=\"data row3 col5\" >0.570</td>\n",
       "      <td id=\"T_cf2cd_row3_col6\" class=\"data row3 col6\" >0.324</td>\n",
       "      <td id=\"T_cf2cd_row3_col7\" class=\"data row3 col7\" >0.398</td>\n",
       "      <td id=\"T_cf2cd_row3_col8\" class=\"data row3 col8\" >0.864</td>\n",
       "      <td id=\"T_cf2cd_row3_col9\" class=\"data row3 col9\" >58212.720</td>\n",
       "      <td id=\"T_cf2cd_row3_col10\" class=\"data row3 col10\" >0.234</td>\n",
       "    </tr>\n",
       "    <tr>\n",
       "      <th id=\"T_cf2cd_level0_row4\" class=\"row_heading level0 row4\" >ridge</th>\n",
       "      <td id=\"T_cf2cd_row4_col0\" class=\"data row4 col0\" >Ridge Classifier</td>\n",
       "      <td id=\"T_cf2cd_row4_col1\" class=\"data row4 col1\" >0.720</td>\n",
       "      <td id=\"T_cf2cd_row4_col2\" class=\"data row4 col2\" >0.000</td>\n",
       "      <td id=\"T_cf2cd_row4_col3\" class=\"data row4 col3\" >0.803</td>\n",
       "      <td id=\"T_cf2cd_row4_col4\" class=\"data row4 col4\" >0.484</td>\n",
       "      <td id=\"T_cf2cd_row4_col5\" class=\"data row4 col5\" >0.604</td>\n",
       "      <td id=\"T_cf2cd_row4_col6\" class=\"data row4 col6\" >0.408</td>\n",
       "      <td id=\"T_cf2cd_row4_col7\" class=\"data row4 col7\" >0.439</td>\n",
       "      <td id=\"T_cf2cd_row4_col8\" class=\"data row4 col8\" >0.784</td>\n",
       "      <td id=\"T_cf2cd_row4_col9\" class=\"data row4 col9\" >61072.000</td>\n",
       "      <td id=\"T_cf2cd_row4_col10\" class=\"data row4 col10\" >0.106</td>\n",
       "    </tr>\n",
       "    <tr>\n",
       "      <th id=\"T_cf2cd_level0_row5\" class=\"row_heading level0 row5\" >lightgbm</th>\n",
       "      <td id=\"T_cf2cd_row5_col0\" class=\"data row5 col0\" >Light Gradient Boosting Machine</td>\n",
       "      <td id=\"T_cf2cd_row5_col1\" class=\"data row5 col1\" >0.657</td>\n",
       "      <td id=\"T_cf2cd_row5_col2\" class=\"data row5 col2\" >0.794</td>\n",
       "      <td id=\"T_cf2cd_row5_col3\" class=\"data row5 col3\" >0.855</td>\n",
       "      <td id=\"T_cf2cd_row5_col4\" class=\"data row5 col4\" >0.427</td>\n",
       "      <td id=\"T_cf2cd_row5_col5\" class=\"data row5 col5\" >0.570</td>\n",
       "      <td id=\"T_cf2cd_row5_col6\" class=\"data row5 col6\" >0.334</td>\n",
       "      <td id=\"T_cf2cd_row5_col7\" class=\"data row5 col7\" >0.391</td>\n",
       "      <td id=\"T_cf2cd_row5_col8\" class=\"data row5 col8\" >0.824</td>\n",
       "      <td id=\"T_cf2cd_row5_col9\" class=\"data row5 col9\" >62099.120</td>\n",
       "      <td id=\"T_cf2cd_row5_col10\" class=\"data row5 col10\" >0.168</td>\n",
       "    </tr>\n",
       "    <tr>\n",
       "      <th id=\"T_cf2cd_level0_row6\" class=\"row_heading level0 row6\" >xgboost</th>\n",
       "      <td id=\"T_cf2cd_row6_col0\" class=\"data row6 col0\" >Extreme Gradient Boosting</td>\n",
       "      <td id=\"T_cf2cd_row6_col1\" class=\"data row6 col1\" >0.660</td>\n",
       "      <td id=\"T_cf2cd_row6_col2\" class=\"data row6 col2\" >0.783</td>\n",
       "      <td id=\"T_cf2cd_row6_col3\" class=\"data row6 col3\" >0.832</td>\n",
       "      <td id=\"T_cf2cd_row6_col4\" class=\"data row6 col4\" >0.428</td>\n",
       "      <td id=\"T_cf2cd_row6_col5\" class=\"data row6 col5\" >0.565</td>\n",
       "      <td id=\"T_cf2cd_row6_col6\" class=\"data row6 col6\" >0.330</td>\n",
       "      <td id=\"T_cf2cd_row6_col7\" class=\"data row6 col7\" >0.380</td>\n",
       "      <td id=\"T_cf2cd_row6_col8\" class=\"data row6 col8\" >0.803</td>\n",
       "      <td id=\"T_cf2cd_row6_col9\" class=\"data row6 col9\" >64875.120</td>\n",
       "      <td id=\"T_cf2cd_row6_col10\" class=\"data row6 col10\" >0.132</td>\n",
       "    </tr>\n",
       "    <tr>\n",
       "      <th id=\"T_cf2cd_level0_row7\" class=\"row_heading level0 row7\" >knn</th>\n",
       "      <td id=\"T_cf2cd_row7_col0\" class=\"data row7 col0\" >K Neighbors Classifier</td>\n",
       "      <td id=\"T_cf2cd_row7_col1\" class=\"data row7 col1\" >0.647</td>\n",
       "      <td id=\"T_cf2cd_row7_col2\" class=\"data row7 col2\" >0.768</td>\n",
       "      <td id=\"T_cf2cd_row7_col3\" class=\"data row7 col3\" >0.839</td>\n",
       "      <td id=\"T_cf2cd_row7_col4\" class=\"data row7 col4\" >0.418</td>\n",
       "      <td id=\"T_cf2cd_row7_col5\" class=\"data row7 col5\" >0.558</td>\n",
       "      <td id=\"T_cf2cd_row7_col6\" class=\"data row7 col6\" >0.315</td>\n",
       "      <td id=\"T_cf2cd_row7_col7\" class=\"data row7 col7\" >0.369</td>\n",
       "      <td id=\"T_cf2cd_row7_col8\" class=\"data row7 col8\" >0.807</td>\n",
       "      <td id=\"T_cf2cd_row7_col9\" class=\"data row7 col9\" >65596.880</td>\n",
       "      <td id=\"T_cf2cd_row7_col10\" class=\"data row7 col10\" >0.262</td>\n",
       "    </tr>\n",
       "    <tr>\n",
       "      <th id=\"T_cf2cd_level0_row8\" class=\"row_heading level0 row8\" >rf</th>\n",
       "      <td id=\"T_cf2cd_row8_col0\" class=\"data row8 col0\" >Random Forest Classifier</td>\n",
       "      <td id=\"T_cf2cd_row8_col1\" class=\"data row8 col1\" >0.646</td>\n",
       "      <td id=\"T_cf2cd_row8_col2\" class=\"data row8 col2\" >0.770</td>\n",
       "      <td id=\"T_cf2cd_row8_col3\" class=\"data row8 col3\" >0.816</td>\n",
       "      <td id=\"T_cf2cd_row8_col4\" class=\"data row8 col4\" >0.415</td>\n",
       "      <td id=\"T_cf2cd_row8_col5\" class=\"data row8 col5\" >0.550</td>\n",
       "      <td id=\"T_cf2cd_row8_col6\" class=\"data row8 col6\" >0.306</td>\n",
       "      <td id=\"T_cf2cd_row8_col7\" class=\"data row8 col7\" >0.354</td>\n",
       "      <td id=\"T_cf2cd_row8_col8\" class=\"data row8 col8\" >0.787</td>\n",
       "      <td id=\"T_cf2cd_row8_col9\" class=\"data row8 col9\" >68733.760</td>\n",
       "      <td id=\"T_cf2cd_row8_col10\" class=\"data row8 col10\" >0.238</td>\n",
       "    </tr>\n",
       "    <tr>\n",
       "      <th id=\"T_cf2cd_level0_row9\" class=\"row_heading level0 row9\" >et</th>\n",
       "      <td id=\"T_cf2cd_row9_col0\" class=\"data row9 col0\" >Extra Trees Classifier</td>\n",
       "      <td id=\"T_cf2cd_row9_col1\" class=\"data row9 col1\" >0.652</td>\n",
       "      <td id=\"T_cf2cd_row9_col2\" class=\"data row9 col2\" >0.747</td>\n",
       "      <td id=\"T_cf2cd_row9_col3\" class=\"data row9 col3\" >0.773</td>\n",
       "      <td id=\"T_cf2cd_row9_col4\" class=\"data row9 col4\" >0.416</td>\n",
       "      <td id=\"T_cf2cd_row9_col5\" class=\"data row9 col5\" >0.541</td>\n",
       "      <td id=\"T_cf2cd_row9_col6\" class=\"data row9 col6\" >0.299</td>\n",
       "      <td id=\"T_cf2cd_row9_col7\" class=\"data row9 col7\" >0.337</td>\n",
       "      <td id=\"T_cf2cd_row9_col8\" class=\"data row9 col8\" >0.749</td>\n",
       "      <td id=\"T_cf2cd_row9_col9\" class=\"data row9 col9\" >73647.280</td>\n",
       "      <td id=\"T_cf2cd_row9_col10\" class=\"data row9 col10\" >0.256</td>\n",
       "    </tr>\n",
       "    <tr>\n",
       "      <th id=\"T_cf2cd_level0_row10\" class=\"row_heading level0 row10\" >svm</th>\n",
       "      <td id=\"T_cf2cd_row10_col0\" class=\"data row10 col0\" >SVM - Linear Kernel</td>\n",
       "      <td id=\"T_cf2cd_row10_col1\" class=\"data row10 col1\" >0.697</td>\n",
       "      <td id=\"T_cf2cd_row10_col2\" class=\"data row10 col2\" >0.000</td>\n",
       "      <td id=\"T_cf2cd_row10_col3\" class=\"data row10 col3\" >0.660</td>\n",
       "      <td id=\"T_cf2cd_row10_col4\" class=\"data row10 col4\" >0.442</td>\n",
       "      <td id=\"T_cf2cd_row10_col5\" class=\"data row10 col5\" >0.525</td>\n",
       "      <td id=\"T_cf2cd_row10_col6\" class=\"data row10 col6\" >0.314</td>\n",
       "      <td id=\"T_cf2cd_row10_col7\" class=\"data row10 col7\" >0.335</td>\n",
       "      <td id=\"T_cf2cd_row10_col8\" class=\"data row10 col8\" >0.647</td>\n",
       "      <td id=\"T_cf2cd_row10_col9\" class=\"data row10 col9\" >83002.400</td>\n",
       "      <td id=\"T_cf2cd_row10_col10\" class=\"data row10 col10\" >0.120</td>\n",
       "    </tr>\n",
       "    <tr>\n",
       "      <th id=\"T_cf2cd_level0_row11\" class=\"row_heading level0 row11\" >dt</th>\n",
       "      <td id=\"T_cf2cd_row11_col0\" class=\"data row11 col0\" >Decision Tree Classifier</td>\n",
       "      <td id=\"T_cf2cd_row11_col1\" class=\"data row11 col1\" >0.666</td>\n",
       "      <td id=\"T_cf2cd_row11_col2\" class=\"data row11 col2\" >0.672</td>\n",
       "      <td id=\"T_cf2cd_row11_col3\" class=\"data row11 col3\" >0.681</td>\n",
       "      <td id=\"T_cf2cd_row11_col4\" class=\"data row11 col4\" >0.420</td>\n",
       "      <td id=\"T_cf2cd_row11_col5\" class=\"data row11 col5\" >0.518</td>\n",
       "      <td id=\"T_cf2cd_row11_col6\" class=\"data row11 col6\" >0.284</td>\n",
       "      <td id=\"T_cf2cd_row11_col7\" class=\"data row11 col7\" >0.305</td>\n",
       "      <td id=\"T_cf2cd_row11_col8\" class=\"data row11 col8\" >0.664</td>\n",
       "      <td id=\"T_cf2cd_row11_col9\" class=\"data row11 col9\" >84251.600</td>\n",
       "      <td id=\"T_cf2cd_row11_col10\" class=\"data row11 col10\" >0.164</td>\n",
       "    </tr>\n",
       "    <tr>\n",
       "      <th id=\"T_cf2cd_level0_row12\" class=\"row_heading level0 row12\" >ada</th>\n",
       "      <td id=\"T_cf2cd_row12_col0\" class=\"data row12 col0\" >Ada Boost Classifier</td>\n",
       "      <td id=\"T_cf2cd_row12_col1\" class=\"data row12 col1\" >0.265</td>\n",
       "      <td id=\"T_cf2cd_row12_col2\" class=\"data row12 col2\" >0.810</td>\n",
       "      <td id=\"T_cf2cd_row12_col3\" class=\"data row12 col3\" >1.000</td>\n",
       "      <td id=\"T_cf2cd_row12_col4\" class=\"data row12 col4\" >0.265</td>\n",
       "      <td id=\"T_cf2cd_row12_col5\" class=\"data row12 col5\" >0.419</td>\n",
       "      <td id=\"T_cf2cd_row12_col6\" class=\"data row12 col6\" >0.000</td>\n",
       "      <td id=\"T_cf2cd_row12_col7\" class=\"data row12 col7\" >0.000</td>\n",
       "      <td id=\"T_cf2cd_row12_col8\" class=\"data row12 col8\" >0.904</td>\n",
       "      <td id=\"T_cf2cd_row12_col9\" class=\"data row12 col9\" >91913.360</td>\n",
       "      <td id=\"T_cf2cd_row12_col10\" class=\"data row12 col10\" >0.218</td>\n",
       "    </tr>\n",
       "  </tbody>\n",
       "</table>\n"
      ],
      "text/plain": [
       "<pandas.io.formats.style.Styler at 0x31d9c3ee0>"
      ]
     },
     "metadata": {},
     "output_type": "display_data"
    },
    {
     "data": {
      "application/vnd.jupyter.widget-view+json": {
       "model_id": "fee16b67ad0548038a8b2a1dac264bd1",
       "version_major": 2,
       "version_minor": 0
      },
      "text/plain": [
       "Processing:   0%|          | 0/57 [00:00<?, ?it/s]"
      ]
     },
     "metadata": {},
     "output_type": "display_data"
    }
   ],
   "source": [
    "top_nearmiss_model = exp_nearmiss.compare_models(sort='Loss', probability_threshold=0.3, round=3, exclude=['dummy', 'lda', 'qda'])"
   ]
  },
  {
   "cell_type": "markdown",
   "metadata": {},
   "source": [
    "**Key Takeaways**\n",
    "\n",
    "From the cross-validation results, the F5 score and loss metrics indicate the trade-off between recall and cost-effectiveness in model performance. The AdaBoost Classifier achieves the highest F5 score of 0.904, which emphasizes recall over precision, reflecting its strong capability in identifying positive cases. However, it incurs the highest loss ($91,913.36), making it the most expensive model in terms of misclassification costs. On the other hand, Logistic Regression provides the lowest loss ($56,602.64) while maintaining a competitive F5 score of 0.874, making it the most cost-efficient option. Considering the importance of both F5 and loss, Naive Bayes appears to be the best model, balancing performance and financial implications effectively."
   ]
  },
  {
   "cell_type": "markdown",
   "metadata": {},
   "source": [
    "We proceed with hyperparameter tuning the top models to get the best possible model."
   ]
  },
  {
   "cell_type": "code",
   "execution_count": 39,
   "metadata": {},
   "outputs": [
    {
     "data": {
      "text/html": [],
      "text/plain": [
       "<IPython.core.display.HTML object>"
      ]
     },
     "metadata": {},
     "output_type": "display_data"
    },
    {
     "data": {
      "text/html": [
       "<style type=\"text/css\">\n",
       "#T_570eb_row5_col0, #T_570eb_row5_col1, #T_570eb_row5_col2, #T_570eb_row5_col3, #T_570eb_row5_col4, #T_570eb_row5_col5, #T_570eb_row5_col6, #T_570eb_row5_col7, #T_570eb_row5_col8 {\n",
       "  background: yellow;\n",
       "}\n",
       "</style>\n",
       "<table id=\"T_570eb\">\n",
       "  <thead>\n",
       "    <tr>\n",
       "      <th class=\"blank level0\" >&nbsp;</th>\n",
       "      <th id=\"T_570eb_level0_col0\" class=\"col_heading level0 col0\" >Accuracy</th>\n",
       "      <th id=\"T_570eb_level0_col1\" class=\"col_heading level0 col1\" >AUC</th>\n",
       "      <th id=\"T_570eb_level0_col2\" class=\"col_heading level0 col2\" >Recall</th>\n",
       "      <th id=\"T_570eb_level0_col3\" class=\"col_heading level0 col3\" >Prec.</th>\n",
       "      <th id=\"T_570eb_level0_col4\" class=\"col_heading level0 col4\" >F1</th>\n",
       "      <th id=\"T_570eb_level0_col5\" class=\"col_heading level0 col5\" >Kappa</th>\n",
       "      <th id=\"T_570eb_level0_col6\" class=\"col_heading level0 col6\" >MCC</th>\n",
       "      <th id=\"T_570eb_level0_col7\" class=\"col_heading level0 col7\" >F5</th>\n",
       "      <th id=\"T_570eb_level0_col8\" class=\"col_heading level0 col8\" >Loss (in USD)</th>\n",
       "    </tr>\n",
       "    <tr>\n",
       "      <th class=\"index_name level0\" >Fold</th>\n",
       "      <th class=\"blank col0\" >&nbsp;</th>\n",
       "      <th class=\"blank col1\" >&nbsp;</th>\n",
       "      <th class=\"blank col2\" >&nbsp;</th>\n",
       "      <th class=\"blank col3\" >&nbsp;</th>\n",
       "      <th class=\"blank col4\" >&nbsp;</th>\n",
       "      <th class=\"blank col5\" >&nbsp;</th>\n",
       "      <th class=\"blank col6\" >&nbsp;</th>\n",
       "      <th class=\"blank col7\" >&nbsp;</th>\n",
       "      <th class=\"blank col8\" >&nbsp;</th>\n",
       "    </tr>\n",
       "  </thead>\n",
       "  <tbody>\n",
       "    <tr>\n",
       "      <th id=\"T_570eb_level0_row0\" class=\"row_heading level0 row0\" >0</th>\n",
       "      <td id=\"T_570eb_row0_col0\" class=\"data row0 col0\" >0.6685</td>\n",
       "      <td id=\"T_570eb_row0_col1\" class=\"data row0 col1\" >0.7939</td>\n",
       "      <td id=\"T_570eb_row0_col2\" class=\"data row0 col2\" >0.8875</td>\n",
       "      <td id=\"T_570eb_row0_col3\" class=\"data row0 col3\" >0.4392</td>\n",
       "      <td id=\"T_570eb_row0_col4\" class=\"data row0 col4\" >0.5876</td>\n",
       "      <td id=\"T_570eb_row0_col5\" class=\"data row0 col5\" >0.3596</td>\n",
       "      <td id=\"T_570eb_row0_col6\" class=\"data row0 col6\" >0.4224</td>\n",
       "      <td id=\"T_570eb_row0_col7\" class=\"data row0 col7\" >0.8540</td>\n",
       "      <td id=\"T_570eb_row0_col8\" class=\"data row0 col8\" >56491.6000</td>\n",
       "    </tr>\n",
       "    <tr>\n",
       "      <th id=\"T_570eb_level0_row1\" class=\"row_heading level0 row1\" >1</th>\n",
       "      <td id=\"T_570eb_row1_col0\" class=\"data row1 col0\" >0.6608</td>\n",
       "      <td id=\"T_570eb_row1_col1\" class=\"data row1 col1\" >0.8011</td>\n",
       "      <td id=\"T_570eb_row1_col2\" class=\"data row1 col2\" >0.8326</td>\n",
       "      <td id=\"T_570eb_row1_col3\" class=\"data row1 col3\" >0.4280</td>\n",
       "      <td id=\"T_570eb_row1_col4\" class=\"data row1 col4\" >0.5653</td>\n",
       "      <td id=\"T_570eb_row1_col5\" class=\"data row1 col5\" >0.3313</td>\n",
       "      <td id=\"T_570eb_row1_col6\" class=\"data row1 col6\" >0.3810</td>\n",
       "      <td id=\"T_570eb_row1_col7\" class=\"data row1 col7\" >0.8034</td>\n",
       "      <td id=\"T_570eb_row1_col8\" class=\"data row1 col8\" >64680.8000</td>\n",
       "    </tr>\n",
       "    <tr>\n",
       "      <th id=\"T_570eb_level0_row2\" class=\"row_heading level0 row2\" >2</th>\n",
       "      <td id=\"T_570eb_row2_col0\" class=\"data row2 col0\" >0.6848</td>\n",
       "      <td id=\"T_570eb_row2_col1\" class=\"data row2 col1\" >0.8390</td>\n",
       "      <td id=\"T_570eb_row2_col2\" class=\"data row2 col2\" >0.8870</td>\n",
       "      <td id=\"T_570eb_row2_col3\" class=\"data row2 col3\" >0.4520</td>\n",
       "      <td id=\"T_570eb_row2_col4\" class=\"data row2 col4\" >0.5989</td>\n",
       "      <td id=\"T_570eb_row2_col5\" class=\"data row2 col5\" >0.3815</td>\n",
       "      <td id=\"T_570eb_row2_col6\" class=\"data row2 col6\" >0.4408</td>\n",
       "      <td id=\"T_570eb_row2_col7\" class=\"data row2 col7\" >0.8554</td>\n",
       "      <td id=\"T_570eb_row2_col8\" class=\"data row2 col8\" >54409.6000</td>\n",
       "    </tr>\n",
       "    <tr>\n",
       "      <th id=\"T_570eb_level0_row3\" class=\"row_heading level0 row3\" >3</th>\n",
       "      <td id=\"T_570eb_row3_col0\" class=\"data row3 col0\" >0.6848</td>\n",
       "      <td id=\"T_570eb_row3_col1\" class=\"data row3 col1\" >0.8105</td>\n",
       "      <td id=\"T_570eb_row3_col2\" class=\"data row3 col2\" >0.8787</td>\n",
       "      <td id=\"T_570eb_row3_col3\" class=\"data row3 col3\" >0.4516</td>\n",
       "      <td id=\"T_570eb_row3_col4\" class=\"data row3 col4\" >0.5966</td>\n",
       "      <td id=\"T_570eb_row3_col5\" class=\"data row3 col5\" >0.3790</td>\n",
       "      <td id=\"T_570eb_row3_col6\" class=\"data row3 col6\" >0.4359</td>\n",
       "      <td id=\"T_570eb_row3_col7\" class=\"data row3 col7\" >0.8478</td>\n",
       "      <td id=\"T_570eb_row3_col8\" class=\"data row3 col8\" >55520.0000</td>\n",
       "    </tr>\n",
       "    <tr>\n",
       "      <th id=\"T_570eb_level0_row4\" class=\"row_heading level0 row4\" >4</th>\n",
       "      <td id=\"T_570eb_row4_col0\" class=\"data row4 col0\" >0.6792</td>\n",
       "      <td id=\"T_570eb_row4_col1\" class=\"data row4 col1\" >0.8317</td>\n",
       "      <td id=\"T_570eb_row4_col2\" class=\"data row4 col2\" >0.9205</td>\n",
       "      <td id=\"T_570eb_row4_col3\" class=\"data row4 col3\" >0.4490</td>\n",
       "      <td id=\"T_570eb_row4_col4\" class=\"data row4 col4\" >0.6036</td>\n",
       "      <td id=\"T_570eb_row4_col5\" class=\"data row4 col5\" >0.3839</td>\n",
       "      <td id=\"T_570eb_row4_col6\" class=\"data row4 col6\" >0.4544</td>\n",
       "      <td id=\"T_570eb_row4_col7\" class=\"data row4 col7\" >0.8848</td>\n",
       "      <td id=\"T_570eb_row4_col8\" class=\"data row4 col8\" >50662.0000</td>\n",
       "    </tr>\n",
       "    <tr>\n",
       "      <th id=\"T_570eb_level0_row5\" class=\"row_heading level0 row5\" >Mean</th>\n",
       "      <td id=\"T_570eb_row5_col0\" class=\"data row5 col0\" >0.6756</td>\n",
       "      <td id=\"T_570eb_row5_col1\" class=\"data row5 col1\" >0.8153</td>\n",
       "      <td id=\"T_570eb_row5_col2\" class=\"data row5 col2\" >0.8813</td>\n",
       "      <td id=\"T_570eb_row5_col3\" class=\"data row5 col3\" >0.4440</td>\n",
       "      <td id=\"T_570eb_row5_col4\" class=\"data row5 col4\" >0.5904</td>\n",
       "      <td id=\"T_570eb_row5_col5\" class=\"data row5 col5\" >0.3670</td>\n",
       "      <td id=\"T_570eb_row5_col6\" class=\"data row5 col6\" >0.4269</td>\n",
       "      <td id=\"T_570eb_row5_col7\" class=\"data row5 col7\" >0.8491</td>\n",
       "      <td id=\"T_570eb_row5_col8\" class=\"data row5 col8\" >56352.8000</td>\n",
       "    </tr>\n",
       "    <tr>\n",
       "      <th id=\"T_570eb_level0_row6\" class=\"row_heading level0 row6\" >Std</th>\n",
       "      <td id=\"T_570eb_row6_col0\" class=\"data row6 col0\" >0.0095</td>\n",
       "      <td id=\"T_570eb_row6_col1\" class=\"data row6 col1\" >0.0174</td>\n",
       "      <td id=\"T_570eb_row6_col2\" class=\"data row6 col2\" >0.0282</td>\n",
       "      <td id=\"T_570eb_row6_col3\" class=\"data row6 col3\" >0.0092</td>\n",
       "      <td id=\"T_570eb_row6_col4\" class=\"data row6 col4\" >0.0136</td>\n",
       "      <td id=\"T_570eb_row6_col5\" class=\"data row6 col5\" >0.0198</td>\n",
       "      <td id=\"T_570eb_row6_col6\" class=\"data row6 col6\" >0.0251</td>\n",
       "      <td id=\"T_570eb_row6_col7\" class=\"data row6 col7\" >0.0262</td>\n",
       "      <td id=\"T_570eb_row6_col8\" class=\"data row6 col8\" >4609.3305</td>\n",
       "    </tr>\n",
       "  </tbody>\n",
       "</table>\n"
      ],
      "text/plain": [
       "<pandas.io.formats.style.Styler at 0x316d1d040>"
      ]
     },
     "metadata": {},
     "output_type": "display_data"
    },
    {
     "data": {
      "application/vnd.jupyter.widget-view+json": {
       "model_id": "e6861a65f9114451b42256900b4ebd81",
       "version_major": 2,
       "version_minor": 0
      },
      "text/plain": [
       "Processing:   0%|          | 0/7 [00:00<?, ?it/s]"
      ]
     },
     "metadata": {},
     "output_type": "display_data"
    },
    {
     "name": "stdout",
     "output_type": "stream",
     "text": [
      "Fitting 5 folds for each of 9 candidates, totalling 45 fits\n"
     ]
    }
   ],
   "source": [
    "# hyperparameter tuning process for top model using `GridSearchCV`\n",
    "tune_nearmiss_model = exp_nearmiss.tune_model(\n",
    "    estimator=top_nearmiss_model, \n",
    "    optimize='Loss', \n",
    "    custom_grid={'var_smoothing': [1e-9, 1e-8, 1e-7, 1e-6, 1e-5, 1e-4, 1e-3, 1e-2, 1e-1]},\n",
    "    search_algorithm='grid'\n",
    ")\n",
    "\n",
    "# save the CV result\n",
    "cv_top_nearmiss = exp_nearmiss.pull()"
   ]
  },
  {
   "cell_type": "markdown",
   "metadata": {},
   "source": [
    "**Key Takeaways**\n",
    "\n",
    "The comparison of cross-validation results before and after hyperparameter tuning shows minimal improvement. The F5 score increased slightly from 0.846 to 0.8491, indicating a negligible enhancement in the model's ability to balance recall and precision. However, the loss metric shows a more notable reduction, decreasing from $56,602.640 to $56,352.80 reflecting a modest improvement in cost-effectiveness. While the tuning results suggest an optimization of the model's financial efficiency, the impact on overall performance is marginal, indicating that the original hyperparameters were already well-configured."
   ]
  },
  {
   "cell_type": "code",
   "execution_count": 40,
   "metadata": {},
   "outputs": [
    {
     "data": {
      "text/html": [
       "<div>\n",
       "<style scoped>\n",
       "    .dataframe tbody tr th:only-of-type {\n",
       "        vertical-align: middle;\n",
       "    }\n",
       "\n",
       "    .dataframe tbody tr th {\n",
       "        vertical-align: top;\n",
       "    }\n",
       "\n",
       "    .dataframe thead th {\n",
       "        text-align: right;\n",
       "    }\n",
       "</style>\n",
       "<table border=\"1\" class=\"dataframe\">\n",
       "  <thead>\n",
       "    <tr style=\"text-align: right;\">\n",
       "      <th></th>\n",
       "      <th>Experiment</th>\n",
       "      <th>FP</th>\n",
       "      <th>FN</th>\n",
       "      <th>F5</th>\n",
       "      <th>Loss (in USD)</th>\n",
       "    </tr>\n",
       "  </thead>\n",
       "  <tbody>\n",
       "    <tr>\n",
       "      <th>0</th>\n",
       "      <td>Train Score</td>\n",
       "      <td>1345</td>\n",
       "      <td>134</td>\n",
       "      <td>0.854675</td>\n",
       "      <td>279682.0</td>\n",
       "    </tr>\n",
       "    <tr>\n",
       "      <th>1</th>\n",
       "      <td>Validation Score</td>\n",
       "      <td>362</td>\n",
       "      <td>34</td>\n",
       "      <td>0.850407</td>\n",
       "      <td>73841.6</td>\n",
       "    </tr>\n",
       "  </tbody>\n",
       "</table>\n",
       "</div>"
      ],
      "text/plain": [
       "         Experiment    FP   FN        F5  Loss (in USD)\n",
       "0       Train Score  1345  134  0.854675       279682.0\n",
       "1  Validation Score   362   34  0.850407        73841.6"
      ]
     },
     "execution_count": 40,
     "metadata": {},
     "output_type": "execute_result"
    }
   ],
   "source": [
    "pd.concat(\n",
    "    objs=[\n",
    "        compute_result(\n",
    "            exp_nearmiss.predict_model(estimator=tune_nearmiss_model, data=train_nearmiss_set, encoded_labels=True, verbose=False), 'Train Score'),\n",
    "        compute_result(\n",
    "            exp_nearmiss.predict_model(estimator=tune_nearmiss_model, data=val_nearmiss_set, encoded_labels=True, verbose=False), 'Validation Score'),\n",
    "    ],\n",
    ").reset_index(drop=True)"
   ]
  },
  {
   "cell_type": "markdown",
   "metadata": {},
   "source": [
    "**Key Takeaways**\n",
    "\n",
    "The model's performance demonstrates consistency across different evaluation phases. The F5 score on the training set (0.8546) and validation set (0.8504) is very close, indicating that the model is well-generalized and not overfitting to the training data. When compared with the cross-validation results (F5: 0.8491 ± 0.0262), the validation score falls well within the expected range, further confirming the model's stability and reliability. These results suggest that the model is robust and performs consistently across unseen data, making it a dependable choice for deployment."
   ]
  },
  {
   "cell_type": "markdown",
   "metadata": {},
   "source": [
    "### **4.6 Best Model Selection & Finalization**\n",
    "\n",
    "In this section, we evaluate the results of our experiments based on the model's performance and the misclassification costs. Beforehand, let us recap the experiment setups done earlier.\n",
    "\n",
    "- **Experiment 1**: Baseline models. We compared different models using the basic setup. Here the focus of our experiment was models' performance without addressing the data imbalance problem. The top models were tuned and being compared (tuned vs untuned).\n",
    "- **Experiment 2**: Synthetic Minority Over-sampling Technique. This experiment used SMOTE for the data imbalance problem on the models. The top models were tuned and being compared (tuned vs untuned).\n",
    "- **Experiment 3**: NearMiss Version 3. In this experiment, we used undersampling technique to address the problem of data imbalance. And similar to the previous experiments, we also compared the model's performance before and after tuning."
   ]
  },
  {
   "cell_type": "code",
   "execution_count": 79,
   "metadata": {},
   "outputs": [
    {
     "data": {
      "text/html": [
       "<div>\n",
       "<style scoped>\n",
       "    .dataframe tbody tr th:only-of-type {\n",
       "        vertical-align: middle;\n",
       "    }\n",
       "\n",
       "    .dataframe tbody tr th {\n",
       "        vertical-align: top;\n",
       "    }\n",
       "\n",
       "    .dataframe thead th {\n",
       "        text-align: right;\n",
       "    }\n",
       "</style>\n",
       "<table border=\"1\" class=\"dataframe\">\n",
       "  <thead>\n",
       "    <tr style=\"text-align: right;\">\n",
       "      <th>Metrics</th>\n",
       "      <th>Exp 1 Mean</th>\n",
       "      <th>Exp 1 Std</th>\n",
       "      <th>Exp 2 Mean</th>\n",
       "      <th>Exp 2 Std</th>\n",
       "      <th>Exp 3 Mean</th>\n",
       "      <th>Exp 3 Std</th>\n",
       "    </tr>\n",
       "  </thead>\n",
       "  <tbody>\n",
       "    <tr>\n",
       "      <th>Recall</th>\n",
       "      <td>0.8236</td>\n",
       "      <td>0.0350</td>\n",
       "      <td>0.9038</td>\n",
       "      <td>0.0220</td>\n",
       "      <td>0.8813</td>\n",
       "      <td>0.0282</td>\n",
       "    </tr>\n",
       "    <tr>\n",
       "      <th>Prec.</th>\n",
       "      <td>0.4832</td>\n",
       "      <td>0.0121</td>\n",
       "      <td>0.4531</td>\n",
       "      <td>0.0134</td>\n",
       "      <td>0.4440</td>\n",
       "      <td>0.0092</td>\n",
       "    </tr>\n",
       "    <tr>\n",
       "      <th>F5</th>\n",
       "      <td>0.8018</td>\n",
       "      <td>0.0324</td>\n",
       "      <td>0.8705</td>\n",
       "      <td>0.0205</td>\n",
       "      <td>0.8491</td>\n",
       "      <td>0.0262</td>\n",
       "    </tr>\n",
       "    <tr>\n",
       "      <th>Loss (in USD)</th>\n",
       "      <td>58545.8400</td>\n",
       "      <td>5224.7830</td>\n",
       "      <td>52216.5600</td>\n",
       "      <td>3966.2813</td>\n",
       "      <td>56352.8000</td>\n",
       "      <td>4609.3305</td>\n",
       "    </tr>\n",
       "  </tbody>\n",
       "</table>\n",
       "</div>"
      ],
      "text/plain": [
       "Metrics        Exp 1 Mean  Exp 1 Std  Exp 2 Mean  Exp 2 Std  Exp 3 Mean  \\\n",
       "Recall             0.8236     0.0350      0.9038     0.0220      0.8813   \n",
       "Prec.              0.4832     0.0121      0.4531     0.0134      0.4440   \n",
       "F5                 0.8018     0.0324      0.8705     0.0205      0.8491   \n",
       "Loss (in USD)  58545.8400  5224.7830  52216.5600  3966.2813  56352.8000   \n",
       "\n",
       "Metrics        Exp 3 Std  \n",
       "Recall            0.0282  \n",
       "Prec.             0.0092  \n",
       "F5                0.0262  \n",
       "Loss (in USD)  4609.3305  "
      ]
     },
     "execution_count": 79,
     "metadata": {},
     "output_type": "execute_result"
    }
   ],
   "source": [
    "params = ['Mean', 'Std']\n",
    "cols = ['Recall', 'Prec.', 'F5', 'Loss (in USD)']\n",
    "\n",
    "pd.concat(\n",
    "    objs=[\n",
    "        cv_top_baseline.loc[params, cols].T.rename(columns={'Mean': 'Exp 1 Mean', 'Std': 'Exp 1 Std'}),\n",
    "        cv_top_smote.loc[params, cols].T.rename(columns={'Mean': 'Exp 2 Mean', 'Std': 'Exp 2 Std'}),\n",
    "        cv_top_nearmiss.loc[params, cols].T.rename(columns={'Mean': 'Exp 3 Mean', 'Std': 'Exp 3 Std'})\n",
    "    ],\n",
    "    axis=1, \n",
    ").rename_axis('Metrics', axis='columns')"
   ]
  },
  {
   "cell_type": "markdown",
   "metadata": {},
   "source": [
    "**Key Takeaways**\n",
    "\n",
    "To determine the best experiment in the table above, we’ll evaluate the metrics systematically, giving higher weight to F5 score and Loss (in USD). These two metrics are crucial for assessing model performance and its financial impact. Based on the comparison across the three experiments, Experiment 2 stands out as the best choice. It achieves a high recall of 0.9038 with the lowest standard deviation (0.0220), indicating stable performance in identifying positive cases across runs. Although its precision (0.4531) and F5 score (0.8705) are slightly greater than Experiment 3, it maintains a better balance between recall and cost-effectiveness, as reflected in the lowest loss of $52,216.56 with minimal variability (std: $3,966.2813). While Experiment 3 has a marginally middle F5 score (0.8491), its loss is higher ($56,352.80), making it less cost-efficient. Experiment 1, despite its solid precision (0.4832), has the lowest recall (0.8236) and the highest loss ($58,545.840), making it the least favorable. Thus, Experiment 2 offers the best trade-off between recall, stability, and financial implications."
   ]
  },
  {
   "cell_type": "markdown",
   "metadata": {},
   "source": [
    "Once the best performing model are identified, they are retrained on the combined training and validation datasets to create the final model. We aim to utilize all available labeled data for maximum learning before implementation."
   ]
  },
  {
   "cell_type": "code",
   "execution_count": 43,
   "metadata": {},
   "outputs": [],
   "source": [
    "final_model = exp_smote.finalize_model(estimator=tune_smote_model)"
   ]
  },
  {
   "cell_type": "markdown",
   "metadata": {},
   "source": [
    "<a id=\"numerical\"></a>\n",
    "## <b><span style='color:darkturquoise'>Section 5 |</span><span style='color:darkblue'> Evaluating Model Performance on New Data</span></b>\n",
    "\n",
    "____"
   ]
  },
  {
   "cell_type": "markdown",
   "metadata": {},
   "source": [
    "After the model finalization process, the next step is to use it to predict unseen data and analyze the results from a business overview. However, before proceeding with this process, it is important to evaluate the performance of the model by using reliability curves. This step ensures that the predicted probabilities are well calibrated and accurately represent the true likelihood of each outcome, as probabilities are used for decision-making (e.g., risk assessment, cost-sensitive tasks). By analyzing the reliability curve, we can identify potential miscalibrations in the model and address them if necessary, ensuring that the predictions are reliable and interpretable."
   ]
  },
  {
   "cell_type": "markdown",
   "metadata": {},
   "source": [
    "### **5.1 Reliability Curve: Before and After Calibration**\n",
    "\n",
    "Reliability or calibration curve shows whether the final model predicted probabilities correspond to the true likelihood of an event occurring. In its interpretation, a perfectly calibrated model will closely follow the diagonal line, indicating that predicted probabilities are exactly matched by true probabilities."
   ]
  },
  {
   "cell_type": "code",
   "execution_count": 58,
   "metadata": {},
   "outputs": [
    {
     "data": {
      "image/png": "[encoded data removed]",
      "text/plain": [
       "<Figure size 800x550 with 1 Axes>"
      ]
     },
     "metadata": {},
     "output_type": "display_data"
    }
   ],
   "source": [
    "# predict probabilities on the test set\n",
    "X_test = df_unseen.drop(columns=['customerID', 'Churn'])\n",
    "y_test = df_unseen.Churn\n",
    "y_pred_proba = final_model.predict_proba(X_test)[:, 1]\n",
    "\n",
    "# compute calibration curve\n",
    "prob_true, prob_pred = calibration_curve(y_test, y_pred_proba, n_bins=10)\n",
    "\n",
    "# plot Reliability Curve\n",
    "plt.figure()\n",
    "plt.plot(prob_pred, prob_true, marker='o', color='red')\n",
    "plt.plot([0, 1], [0, 1], linestyle='--', color='gray')\n",
    "plt.xlabel('Mean Predicted Probability (Positive Class: 1)')\n",
    "plt.ylabel('Fraction of Positives (Positive Class: 1)')\n",
    "plt.title('Reliability Curve for Pre-Calibrated Final Model')\n",
    "plt.show()"
   ]
  },
  {
   "cell_type": "markdown",
   "metadata": {},
   "source": [
    "**Key Takeaways**\n",
    "\n",
    "The red line, composed of points and connecting segments, represents the model's calibration performance. Deviation from the diagonal indicates miscalibration: probabilities lower than 0.4 slightly underpredict actual positive outcomes, while probabilities above 0.4 exhibit better alignment but still show mild overprediction as the line generally stays below the ideal diagonal. The increasing trend of the red line demonstrates that higher predicted probabilities are associated with higher actual positive rates, which is desirable but not perfectly calibrated. This visualization highlights the model's need for further calibration to align its predictions with actual observed outcomes."
   ]
  },
  {
   "cell_type": "code",
   "execution_count": 59,
   "metadata": {},
   "outputs": [
    {
     "data": {
      "image/png": "[encoded data removed]",
      "text/plain": [
       "<Figure size 800x550 with 1 Axes>"
      ]
     },
     "metadata": {},
     "output_type": "display_data"
    }
   ],
   "source": [
    "# calibration is applied on the validation set\n",
    "X_val = val_nearmiss_set.drop(columns='Churn')\n",
    "y_val = val_nearmiss_set.Churn\n",
    "\n",
    "# calibrate the classifier using sigmoid method\n",
    "calibrated_model = CalibratedClassifierCV(estimator=final_model, cv='prefit', method='isotonic')\n",
    "\n",
    "# calibration process\n",
    "calibrated_model.fit(X_val, y_val)\n",
    "\n",
    "# predict probabilities on the test set\n",
    "y_pred_proba = calibrated_model.predict_proba(X_test)[:, 1]\n",
    "\n",
    "# compute calibration curve\n",
    "prob_true, prob_pred = calibration_curve(y_test, y_pred_proba, n_bins=10)\n",
    "\n",
    "# plot the calibration curve\n",
    "plt.figure()\n",
    "plt.plot(prob_pred, prob_true, marker='o', color='red', label='Calibrated')\n",
    "plt.plot([0, 1], [0, 1], linestyle='--', color='gray', label='Perfectly Calibrated')\n",
    "plt.xlabel('Mean Predicted Probability (Positive Class: 1)')\n",
    "plt.ylabel('Fraction of Positives (Positive Class: 1)')\n",
    "plt.title('Reliability Curve for Post-Calibrated Final Model')\n",
    "plt.legend(loc='best')\n",
    "plt.show()"
   ]
  },
  {
   "cell_type": "markdown",
   "metadata": {},
   "source": [
    "**Key Takeaways** \n",
    "\n",
    "- The calibration curve for the post-calibrated final model demonstrates a significant improvement in aligning the predicted probabilities with the observed fraction of positives. The red line, representing the calibrated model, closely follows the dashed diagonal line of perfect calibration, particularly for mid-to-high probability ranges (0.4–1.0). This indicates that the model now provides reliable probabilistic predictions in these regions. For lower probability ranges (0.0–0.2), there is still a slight deviation, where the predicted probabilities slightly underestimate the observed fraction of positives. However, this discrepancy is minimal compared to the pre-calibration state, showcasing the effectiveness of the calibration process. \n",
    "- The overall alignment of the curve with the perfect calibration line reflects that the model is now well-calibrated, meaning its probability outputs are trustworthy for making decisions or threshold adjustments based on these probabilities. This improvement is particularly crucial for applications where accurate probability estimation is necessary for risk-based decisions."
   ]
  },
  {
   "cell_type": "markdown",
   "metadata": {},
   "source": [
    "### **5.2 Confusion Matrix & Cost-Saving Simulation: Uncalibrated vs Calibrated Model**\n",
    "\n",
    "A confusion matrix displays how well a classification model is performing by showing the number of correct and incorrect predictions. It breaks down the results into four categories: true positives (correctly predicted positives), false positives (negatives incorrectly predicted as positives), true negatives (correctly predicted negatives), and false negatives (positives incorrectly predicted as negatives)."
   ]
  },
  {
   "cell_type": "markdown",
   "metadata": {},
   "source": [
    "#### **5.2.1. Cost-saving simulation of uncalibrated model**"
   ]
  },
  {
   "cell_type": "code",
   "execution_count": 60,
   "metadata": {},
   "outputs": [
    {
     "name": "stdout",
     "output_type": "stream",
     "text": [
      "F5 Score: 0.815\n"
     ]
    },
    {
     "data": {
      "image/png": "[encoded data removed]",
      "text/plain": [
       "<Figure size 800x550 with 1 Axes>"
      ]
     },
     "metadata": {},
     "output_type": "display_data"
    }
   ],
   "source": [
    "# predict on the test set\n",
    "y_pred_test = final_model.predict(X_test)\n",
    "\n",
    "# calculate F5 score\n",
    "print(f\"F5 Score: {fbeta_score(y_test, y_pred_test, beta=5).round(3)}\")\n",
    "\n",
    "# plot the confussion matrix\n",
    "cm = confusion_matrix(y_test, y_pred_test)\n",
    "ax = plt.subplot()\n",
    "sns.heatmap(cm, annot=True, fmt='g', ax=ax, cmap='Blues', cbar=False)\n",
    "\n",
    "ax.set_xlabel('Predicted')\n",
    "ax.set_ylabel('Actual')\n",
    "ax.set_title('Final Model Performance on Test Set: Uncalibrated Model')\n",
    "ax.set_xticklabels(['Not Churn', 'Churn'])\n",
    "ax.set_yticklabels(['Not Churn', 'Churn'])\n",
    "plt.show()"
   ]
  },
  {
   "cell_type": "markdown",
   "metadata": {},
   "source": [
    "**Scenario 1: Customer churn without models**\n",
    "- Before we calculate the misclassification costs of the best model using the confusion matrix, let's recap: the cost per false positive is USD138.8, and the cost per false negative is USD694.\n",
    "- Without the model, there are 374 actual churns missed, resulting in $$374 \\: \\text{churns} \\times \\$694 = \\$259,556$$\n",
    "\n",
    "**Scenario 2: Customer churn with models**\n",
    "- False positives (actual Not Churn, predicted Churn): $$417 \\: \\text{errors} \\times \\$138.8 = \\$57,879.6$$\n",
    "- False negatives (actual Churn, predicted Not Churn): $$58 \\: \\text{errors} \\times \\$694 = \\$40,252$$\n",
    "- In total, the financial cost to the company due to the model's misclassification is **USD98,131.6**\n",
    "- Considering both scenarios, it means the model can save:\n",
    "$$\\$259,556 - \\$98,131.6 = \\$161,424.4$$"
   ]
  },
  {
   "cell_type": "markdown",
   "metadata": {},
   "source": [
    "#### **5.2.2 Cost-saving simulation of calibrated model**"
   ]
  },
  {
   "cell_type": "code",
   "execution_count": 61,
   "metadata": {},
   "outputs": [
    {
     "name": "stdout",
     "output_type": "stream",
     "text": [
      "F5 Score: 0.491\n"
     ]
    },
    {
     "data": {
      "image/png": "[encoded data removed]",
      "text/plain": [
       "<Figure size 800x550 with 1 Axes>"
      ]
     },
     "metadata": {},
     "output_type": "display_data"
    }
   ],
   "source": [
    "# predict on the test set\n",
    "y_pred_test = calibrated_model.predict(X_test)\n",
    "\n",
    "# calculate F5 score\n",
    "print(f\"F5 Score: {fbeta_score(y_test, y_pred_test, beta=5).round(3)}\")\n",
    "\n",
    "# plot the confussion matrix\n",
    "cm = confusion_matrix(y_test, y_pred_test)\n",
    "ax = plt.subplot()\n",
    "sns.heatmap(cm, annot=True, fmt='g', ax=ax, cmap='Blues', cbar=False)\n",
    "ax.set_xlabel('Predicted')\n",
    "ax.set_ylabel('Actual')\n",
    "ax.set_title('Final Model Performance on Test Set: Calibrated Model (Isotonic)')\n",
    "ax.set_xticklabels(['Not Churn', 'Churn'])\n",
    "ax.set_yticklabels(['Not Churn', 'Churn'])\n",
    "plt.show()"
   ]
  },
  {
   "cell_type": "markdown",
   "metadata": {},
   "source": [
    "**Scenario 1: Customer churn without models**\n",
    "- Without the model, there are 374 actual churns missed, resulting in $$374 \\: \\text{churns} \\times \\$694 = \\$259,556$$\n",
    "\n",
    "**Scenario 2: Customer churn with models** \n",
    "- False positives (actual Not Churn, predicted Churn): $$99 \\: \\text{errors} \\times \\$138.8 = \\$13,741.2$$\n",
    "- False negatives (actual Churn, predicted Not Churn): $$192 \\: \\text{errors} \\times \\$694 = \\$133,248$$\n",
    "- In total, the financial cost to the company due to the model's misclassification is **USD146,989.2**\n",
    "- Considering both scenarios, it means the model can save:\n",
    "$$\\$259,556 - \\$146,989.2 = \\$112,566.8$$"
   ]
  },
  {
   "cell_type": "markdown",
   "metadata": {},
   "source": [
    "**Financial impact consideration**\n",
    "\n",
    "Based on the evaluation, the uncalibrated model outperformed the calibrated model in terms of F5 score (0.815 vs. 0.491) and loss cost (USD 98,131 vs. USD 146,989). Although the calibrated model achieved perfect calibration by aligning to the diagonal line, but, the significant decrease in the F5 score and the drastic increase in the loss cost indicate that the better probabilistic accuracy did not translate into better decision-making or cost optimization. The uncalibrated model, despite having high and low confidence levels, shows superior performance in minimizing the cost of loss, which is the main objective in this context. Therefore, the uncalibrated model should be chosen, as it achieves a better balance between model performance and financial impact.\n",
    "\n",
    "And another consideration is that Logistic Regression theoretically produces well-calibrated probabilities, as the model is designed to maximize the likelihood of the data, so its predictions reflect the probability of the positive class. However, in practice, there are certain conditions where additional calibration is required. "
   ]
  },
  {
   "cell_type": "markdown",
   "metadata": {},
   "source": [
    "### **5.3 Global Explanation: SHAP Plot**\n",
    "\n",
    "Since final model makes complex decisions based on numerous interactions between features, which can be hard to interpret directly, we use SHAP plot for getting the feature importance. This plot visualizes how much each feature contributes to the model's prediction based on game theory. By utilizing this plot, we can gain an understanding of the general behavior of the final model and show which features have the most significant impact (both positive or negative)."
   ]
  },
  {
   "cell_type": "code",
   "execution_count": 81,
   "metadata": {},
   "outputs": [
    {
     "name": "stderr",
     "output_type": "stream",
     "text": [
      "Using 5634 background data samples could cause slower run times. Consider using shap.sample(data, K) or shap.kmeans(data, K) to summarize the background as K samples.\n"
     ]
    },
    {
     "data": {
      "application/vnd.jupyter.widget-view+json": {
       "model_id": "215063d95f474aee97a5262d12e515ae",
       "version_major": 2,
       "version_minor": 0
      },
      "text/plain": [
       "  0%|          | 0/1409 [00:00<?, ?it/s]"
      ]
     },
     "metadata": {},
     "output_type": "display_data"
    }
   ],
   "source": [
    "# apply preprocessing to get the transformed feature names\n",
    "X_train_transformed = final_model[:-1].transform(df_seen.drop(columns=['customerID', 'Churn']))\n",
    "X_test_transformed = final_model[:-1].transform(X_test)\n",
    "\n",
    "# get feature names\n",
    "unique_feature_names = X_test_transformed.columns\n",
    "\n",
    "# use Kernel SHAP to explain test set predictions\n",
    "explainer = shap.KernelExplainer(final_model[-1].predict_proba, X_train_transformed, link=\"identity\")\n",
    "shap_values = explainer.shap_values(X_test_transformed, nsamples=100)"
   ]
  },
  {
   "cell_type": "code",
   "execution_count": 82,
   "metadata": {},
   "outputs": [
    {
     "data": {
      "image/png": "[encoded data removed]",
      "text/plain": [
       "<Figure size 800x500 with 2 Axes>"
      ]
     },
     "metadata": {},
     "output_type": "display_data"
    }
   ],
   "source": [
    "# visualize global feature importance\n",
    "shap.summary_plot(shap_values[1], X_test_transformed, \n",
    "                  feature_names=unique_feature_names, \n",
    "                  title=\"SHAP Summary Plot\",\n",
    "                  plot_size=(8, 5))"
   ]
  },
  {
   "cell_type": "markdown",
   "metadata": {},
   "source": [
    "**Key Takeaways**\n",
    "\n",
    "This SHAP summary plot visualizes the impact of feature values on the model's output, with the x-axis representing the SHAP values (positive values push the model toward predicting churn, while negative values push it away from churn). Each dot corresponds to a single customer, with color indicating the feature value (red for high, blue for low). For example, higher tenure (blue) decreases the likelihood of churn, while lower tenure (red) increases it. In contrast, high TotalCharges (red) tend to increase churn probability. Features such as Contract_Month-to-month and missing OnlineSecurity or TechSupport significantly influence churn predictions, with high values (red) typically contributing to churn. This plot emphasizes the relationship between individual feature values and their contribution to churn prediction, enabling actionable insights for targeted interventions."
   ]
  },
  {
   "cell_type": "markdown",
   "metadata": {},
   "source": [
    "### **5.4 Local Explanation: Counterfactual**\n",
    "To enhance the interpretability of our best-performing customer churn prediction model, we use counter factual explanation. Just a quick explanation, counterfactual explanation is a XAI method to understand a model's decision by showing how the outcome would change with different input data (see [Mothilal, Sharma, & Tan, 2020](https://arxiv.org/abs/1905.07697) for the introduction). It helps answer the question, \"What if the input data were different?\" This approach not only helps us understand the key drivers behind the model's predictions but also provides actionable insights for strategies to prevent customers from churning."
   ]
  },
  {
   "cell_type": "code",
   "execution_count": 70,
   "metadata": {},
   "outputs": [],
   "source": [
    "# specify numerical columns\n",
    "cont_features = ['tenure', 'MonthlyCharges', 'TotalCharges']\n",
    "\n",
    "# define the data interface\n",
    "data_interface = dice_ml.Data(dataframe=df_seen.drop(columns='customerID'), continuous_features=cont_features, outcome_name='Churn')\n",
    "\n",
    "# define the model interface\n",
    "model_interface = dice_ml.Model(model=final_model, backend='sklearn')\n",
    "\n",
    "# initialize Dice\n",
    "dice = Dice(data_interface, model_interface)"
   ]
  },
  {
   "cell_type": "markdown",
   "metadata": {},
   "source": [
    "Suppose there is one customer that the model predicts will churn with a probability of 0.63"
   ]
  },
  {
   "cell_type": "code",
   "execution_count": 71,
   "metadata": {},
   "outputs": [
    {
     "name": "stdout",
     "output_type": "stream",
     "text": [
      "Original Outcome: 1\n"
     ]
    },
    {
     "data": {
      "text/html": [
       "<div>\n",
       "<style scoped>\n",
       "    .dataframe tbody tr th:only-of-type {\n",
       "        vertical-align: middle;\n",
       "    }\n",
       "\n",
       "    .dataframe tbody tr th {\n",
       "        vertical-align: top;\n",
       "    }\n",
       "\n",
       "    .dataframe thead th {\n",
       "        text-align: right;\n",
       "    }\n",
       "</style>\n",
       "<table border=\"1\" class=\"dataframe\">\n",
       "  <thead>\n",
       "    <tr style=\"text-align: right;\">\n",
       "      <th></th>\n",
       "      <th>gender</th>\n",
       "      <th>SeniorCitizen</th>\n",
       "      <th>Partner</th>\n",
       "      <th>Dependents</th>\n",
       "      <th>tenure</th>\n",
       "      <th>PhoneService</th>\n",
       "      <th>MultipleLines</th>\n",
       "      <th>InternetService</th>\n",
       "      <th>OnlineSecurity</th>\n",
       "      <th>OnlineBackup</th>\n",
       "      <th>...</th>\n",
       "      <th>StreamingTV</th>\n",
       "      <th>StreamingMovies</th>\n",
       "      <th>Contract</th>\n",
       "      <th>PaperlessBilling</th>\n",
       "      <th>PaymentMethod</th>\n",
       "      <th>MonthlyCharges</th>\n",
       "      <th>TotalCharges</th>\n",
       "      <th>Churn</th>\n",
       "      <th>proba_0</th>\n",
       "      <th>proba_1</th>\n",
       "    </tr>\n",
       "  </thead>\n",
       "  <tbody>\n",
       "    <tr>\n",
       "      <th>7025</th>\n",
       "      <td>Female</td>\n",
       "      <td>No</td>\n",
       "      <td>No</td>\n",
       "      <td>No</td>\n",
       "      <td>18</td>\n",
       "      <td>Yes</td>\n",
       "      <td>Yes</td>\n",
       "      <td>Fiber optic</td>\n",
       "      <td>No</td>\n",
       "      <td>No</td>\n",
       "      <td>...</td>\n",
       "      <td>No</td>\n",
       "      <td>Yes</td>\n",
       "      <td>Month-to-month</td>\n",
       "      <td>Yes</td>\n",
       "      <td>Bank transfer (automatic)</td>\n",
       "      <td>95.05</td>\n",
       "      <td>1679.4</td>\n",
       "      <td>1</td>\n",
       "      <td>0.37</td>\n",
       "      <td>0.63</td>\n",
       "    </tr>\n",
       "  </tbody>\n",
       "</table>\n",
       "<p>1 rows × 22 columns</p>\n",
       "</div>"
      ],
      "text/plain": [
       "      gender SeniorCitizen Partner Dependents  tenure PhoneService  \\\n",
       "7025  Female            No      No         No      18          Yes   \n",
       "\n",
       "     MultipleLines InternetService OnlineSecurity OnlineBackup  ...  \\\n",
       "7025           Yes     Fiber optic             No           No  ...   \n",
       "\n",
       "     StreamingTV StreamingMovies        Contract PaperlessBilling  \\\n",
       "7025          No             Yes  Month-to-month              Yes   \n",
       "\n",
       "                  PaymentMethod MonthlyCharges TotalCharges  Churn  proba_0  \\\n",
       "7025  Bank transfer (automatic)          95.05       1679.4      1     0.37   \n",
       "\n",
       "      proba_1  \n",
       "7025     0.63  \n",
       "\n",
       "[1 rows x 22 columns]"
      ]
     },
     "metadata": {},
     "output_type": "display_data"
    }
   ],
   "source": [
    "# choose customer sample\n",
    "cust_sample = X_test.loc[7025:7025, :]\n",
    "\n",
    "# show prediction result\n",
    "display(show_predict(final_model, cust_sample))"
   ]
  },
  {
   "cell_type": "markdown",
   "metadata": {},
   "source": [
    "Here we exemplify intervening on two features, namely `Tenure` and `Total Charges`, based on the SHAP output. The selection of these two features is based on the features that are most likely to be intervened by the Customer Experience Manager, supported by the Marketing Manager, such as providing loyalty programs and targeted offers. "
   ]
  },
  {
   "cell_type": "markdown",
   "metadata": {},
   "source": [
    "**Simulating Tenure**"
   ]
  },
  {
   "cell_type": "code",
   "execution_count": 72,
   "metadata": {},
   "outputs": [
    {
     "name": "stderr",
     "output_type": "stream",
     "text": [
      "100%|██████████| 1/1 [00:01<00:00,  1.85s/it]\n"
     ]
    },
    {
     "data": {
      "text/html": [
       "<div>\n",
       "<style scoped>\n",
       "    .dataframe tbody tr th:only-of-type {\n",
       "        vertical-align: middle;\n",
       "    }\n",
       "\n",
       "    .dataframe tbody tr th {\n",
       "        vertical-align: top;\n",
       "    }\n",
       "\n",
       "    .dataframe thead th {\n",
       "        text-align: right;\n",
       "    }\n",
       "</style>\n",
       "<table border=\"1\" class=\"dataframe\">\n",
       "  <thead>\n",
       "    <tr style=\"text-align: right;\">\n",
       "      <th></th>\n",
       "      <th>gender</th>\n",
       "      <th>SeniorCitizen</th>\n",
       "      <th>Partner</th>\n",
       "      <th>Dependents</th>\n",
       "      <th>tenure</th>\n",
       "      <th>PhoneService</th>\n",
       "      <th>MultipleLines</th>\n",
       "      <th>InternetService</th>\n",
       "      <th>OnlineSecurity</th>\n",
       "      <th>OnlineBackup</th>\n",
       "      <th>...</th>\n",
       "      <th>StreamingTV</th>\n",
       "      <th>StreamingMovies</th>\n",
       "      <th>Contract</th>\n",
       "      <th>PaperlessBilling</th>\n",
       "      <th>PaymentMethod</th>\n",
       "      <th>MonthlyCharges</th>\n",
       "      <th>TotalCharges</th>\n",
       "      <th>Churn</th>\n",
       "      <th>proba_0</th>\n",
       "      <th>proba_1</th>\n",
       "    </tr>\n",
       "  </thead>\n",
       "  <tbody>\n",
       "    <tr>\n",
       "      <th>0</th>\n",
       "      <td>Female</td>\n",
       "      <td>No</td>\n",
       "      <td>No</td>\n",
       "      <td>No</td>\n",
       "      <td>55</td>\n",
       "      <td>Yes</td>\n",
       "      <td>Yes</td>\n",
       "      <td>Fiber optic</td>\n",
       "      <td>No</td>\n",
       "      <td>No</td>\n",
       "      <td>...</td>\n",
       "      <td>No</td>\n",
       "      <td>Yes</td>\n",
       "      <td>Month-to-month</td>\n",
       "      <td>Yes</td>\n",
       "      <td>Bank transfer (automatic)</td>\n",
       "      <td>95.05</td>\n",
       "      <td>1679.4</td>\n",
       "      <td>0</td>\n",
       "      <td>0.92</td>\n",
       "      <td>0.08</td>\n",
       "    </tr>\n",
       "    <tr>\n",
       "      <th>1</th>\n",
       "      <td>Female</td>\n",
       "      <td>No</td>\n",
       "      <td>No</td>\n",
       "      <td>No</td>\n",
       "      <td>70</td>\n",
       "      <td>Yes</td>\n",
       "      <td>Yes</td>\n",
       "      <td>Fiber optic</td>\n",
       "      <td>No</td>\n",
       "      <td>No</td>\n",
       "      <td>...</td>\n",
       "      <td>No</td>\n",
       "      <td>Yes</td>\n",
       "      <td>Month-to-month</td>\n",
       "      <td>Yes</td>\n",
       "      <td>Bank transfer (automatic)</td>\n",
       "      <td>95.05</td>\n",
       "      <td>1679.4</td>\n",
       "      <td>0</td>\n",
       "      <td>0.98</td>\n",
       "      <td>0.02</td>\n",
       "    </tr>\n",
       "    <tr>\n",
       "      <th>2</th>\n",
       "      <td>Female</td>\n",
       "      <td>No</td>\n",
       "      <td>No</td>\n",
       "      <td>No</td>\n",
       "      <td>36</td>\n",
       "      <td>Yes</td>\n",
       "      <td>Yes</td>\n",
       "      <td>Fiber optic</td>\n",
       "      <td>No</td>\n",
       "      <td>No</td>\n",
       "      <td>...</td>\n",
       "      <td>No</td>\n",
       "      <td>Yes</td>\n",
       "      <td>Month-to-month</td>\n",
       "      <td>Yes</td>\n",
       "      <td>Bank transfer (automatic)</td>\n",
       "      <td>95.05</td>\n",
       "      <td>1679.4</td>\n",
       "      <td>0</td>\n",
       "      <td>0.72</td>\n",
       "      <td>0.28</td>\n",
       "    </tr>\n",
       "  </tbody>\n",
       "</table>\n",
       "<p>3 rows × 22 columns</p>\n",
       "</div>"
      ],
      "text/plain": [
       "   gender SeniorCitizen Partner Dependents  tenure PhoneService MultipleLines  \\\n",
       "0  Female            No      No         No      55          Yes           Yes   \n",
       "1  Female            No      No         No      70          Yes           Yes   \n",
       "2  Female            No      No         No      36          Yes           Yes   \n",
       "\n",
       "  InternetService OnlineSecurity OnlineBackup  ... StreamingTV  \\\n",
       "0     Fiber optic             No           No  ...          No   \n",
       "1     Fiber optic             No           No  ...          No   \n",
       "2     Fiber optic             No           No  ...          No   \n",
       "\n",
       "  StreamingMovies        Contract PaperlessBilling              PaymentMethod  \\\n",
       "0             Yes  Month-to-month              Yes  Bank transfer (automatic)   \n",
       "1             Yes  Month-to-month              Yes  Bank transfer (automatic)   \n",
       "2             Yes  Month-to-month              Yes  Bank transfer (automatic)   \n",
       "\n",
       "  MonthlyCharges TotalCharges  Churn  proba_0  proba_1  \n",
       "0          95.05       1679.4      0     0.92     0.08  \n",
       "1          95.05       1679.4      0     0.98     0.02  \n",
       "2          95.05       1679.4      0     0.72     0.28  \n",
       "\n",
       "[3 rows x 22 columns]"
      ]
     },
     "execution_count": 72,
     "metadata": {},
     "output_type": "execute_result"
    }
   ],
   "source": [
    "np.random.seed(42)\n",
    "random.seed(42)\n",
    "\n",
    "# generate counterfactuals\n",
    "cf = dice.generate_counterfactuals(cust_sample, desired_class=0, total_CFs=3, features_to_vary=['tenure'])\n",
    "\n",
    "# extract counterfactual instances\n",
    "counterfactual_instances = cf.cf_examples_list[0].final_cfs_df\n",
    "\n",
    "# predict probabilities for the counterfactuals\n",
    "cf_probs = final_model.predict_proba(counterfactual_instances.drop(columns='Churn'))\n",
    "\n",
    "# add predicted probabilities for class 1 and 0\n",
    "counterfactual_instances['proba_0'] = cf_probs[:, 0].round(2)\n",
    "counterfactual_instances['proba_1'] = cf_probs[:, 1].round(2)\n",
    "\n",
    "# display output\n",
    "counterfactual_instances"
   ]
  },
  {
   "cell_type": "markdown",
   "metadata": {},
   "source": [
    "**Key Takeaways**\n",
    "- The counterfactual explanation indicates that increasing the `Tenure` from 2 to higher values (e.g. 36, 55, and 70) would change the outcome from churn to not churn. This finding makes sense since previously we already discovered that churned customers usually have shorter tenure. This suggests that decresing tenure (customer's duration with the company) significantly influences the likelihood of churning.\n",
    "- Based on this output, in order to encourage long-term customer retention, we can propose an idea to the Customer Experience Maneger to implement or enhance loyalty programs that reward loyal customers and provide personalized discounts or offers based on customer tenure, making them feel valued and appreciated."
   ]
  },
  {
   "cell_type": "markdown",
   "metadata": {},
   "source": [
    "**Simulating Total Charges**"
   ]
  },
  {
   "cell_type": "code",
   "execution_count": 73,
   "metadata": {},
   "outputs": [
    {
     "name": "stderr",
     "output_type": "stream",
     "text": [
      "100%|██████████| 1/1 [00:00<00:00,  1.31it/s]\n"
     ]
    },
    {
     "data": {
      "text/html": [
       "<div>\n",
       "<style scoped>\n",
       "    .dataframe tbody tr th:only-of-type {\n",
       "        vertical-align: middle;\n",
       "    }\n",
       "\n",
       "    .dataframe tbody tr th {\n",
       "        vertical-align: top;\n",
       "    }\n",
       "\n",
       "    .dataframe thead th {\n",
       "        text-align: right;\n",
       "    }\n",
       "</style>\n",
       "<table border=\"1\" class=\"dataframe\">\n",
       "  <thead>\n",
       "    <tr style=\"text-align: right;\">\n",
       "      <th></th>\n",
       "      <th>gender</th>\n",
       "      <th>SeniorCitizen</th>\n",
       "      <th>Partner</th>\n",
       "      <th>Dependents</th>\n",
       "      <th>tenure</th>\n",
       "      <th>PhoneService</th>\n",
       "      <th>MultipleLines</th>\n",
       "      <th>InternetService</th>\n",
       "      <th>OnlineSecurity</th>\n",
       "      <th>OnlineBackup</th>\n",
       "      <th>...</th>\n",
       "      <th>StreamingTV</th>\n",
       "      <th>StreamingMovies</th>\n",
       "      <th>Contract</th>\n",
       "      <th>PaperlessBilling</th>\n",
       "      <th>PaymentMethod</th>\n",
       "      <th>MonthlyCharges</th>\n",
       "      <th>TotalCharges</th>\n",
       "      <th>Churn</th>\n",
       "      <th>proba_0</th>\n",
       "      <th>proba_1</th>\n",
       "    </tr>\n",
       "  </thead>\n",
       "  <tbody>\n",
       "    <tr>\n",
       "      <th>0</th>\n",
       "      <td>Female</td>\n",
       "      <td>No</td>\n",
       "      <td>No</td>\n",
       "      <td>No</td>\n",
       "      <td>18</td>\n",
       "      <td>Yes</td>\n",
       "      <td>Yes</td>\n",
       "      <td>Fiber optic</td>\n",
       "      <td>No</td>\n",
       "      <td>No</td>\n",
       "      <td>...</td>\n",
       "      <td>No</td>\n",
       "      <td>Yes</td>\n",
       "      <td>Month-to-month</td>\n",
       "      <td>Yes</td>\n",
       "      <td>Bank transfer (automatic)</td>\n",
       "      <td>95.05</td>\n",
       "      <td>659.6</td>\n",
       "      <td>0</td>\n",
       "      <td>0.54</td>\n",
       "      <td>0.46</td>\n",
       "    </tr>\n",
       "    <tr>\n",
       "      <th>1</th>\n",
       "      <td>Female</td>\n",
       "      <td>No</td>\n",
       "      <td>No</td>\n",
       "      <td>No</td>\n",
       "      <td>18</td>\n",
       "      <td>Yes</td>\n",
       "      <td>Yes</td>\n",
       "      <td>Fiber optic</td>\n",
       "      <td>No</td>\n",
       "      <td>No</td>\n",
       "      <td>...</td>\n",
       "      <td>No</td>\n",
       "      <td>Yes</td>\n",
       "      <td>Month-to-month</td>\n",
       "      <td>Yes</td>\n",
       "      <td>Bank transfer (automatic)</td>\n",
       "      <td>95.05</td>\n",
       "      <td>713.1</td>\n",
       "      <td>0</td>\n",
       "      <td>0.53</td>\n",
       "      <td>0.47</td>\n",
       "    </tr>\n",
       "    <tr>\n",
       "      <th>2</th>\n",
       "      <td>Female</td>\n",
       "      <td>No</td>\n",
       "      <td>No</td>\n",
       "      <td>No</td>\n",
       "      <td>18</td>\n",
       "      <td>Yes</td>\n",
       "      <td>Yes</td>\n",
       "      <td>Fiber optic</td>\n",
       "      <td>No</td>\n",
       "      <td>No</td>\n",
       "      <td>...</td>\n",
       "      <td>No</td>\n",
       "      <td>Yes</td>\n",
       "      <td>Month-to-month</td>\n",
       "      <td>Yes</td>\n",
       "      <td>Bank transfer (automatic)</td>\n",
       "      <td>95.05</td>\n",
       "      <td>316.4</td>\n",
       "      <td>0</td>\n",
       "      <td>0.60</td>\n",
       "      <td>0.40</td>\n",
       "    </tr>\n",
       "  </tbody>\n",
       "</table>\n",
       "<p>3 rows × 22 columns</p>\n",
       "</div>"
      ],
      "text/plain": [
       "   gender SeniorCitizen Partner Dependents  tenure PhoneService MultipleLines  \\\n",
       "0  Female            No      No         No      18          Yes           Yes   \n",
       "1  Female            No      No         No      18          Yes           Yes   \n",
       "2  Female            No      No         No      18          Yes           Yes   \n",
       "\n",
       "  InternetService OnlineSecurity OnlineBackup  ... StreamingTV  \\\n",
       "0     Fiber optic             No           No  ...          No   \n",
       "1     Fiber optic             No           No  ...          No   \n",
       "2     Fiber optic             No           No  ...          No   \n",
       "\n",
       "  StreamingMovies        Contract PaperlessBilling              PaymentMethod  \\\n",
       "0             Yes  Month-to-month              Yes  Bank transfer (automatic)   \n",
       "1             Yes  Month-to-month              Yes  Bank transfer (automatic)   \n",
       "2             Yes  Month-to-month              Yes  Bank transfer (automatic)   \n",
       "\n",
       "  MonthlyCharges TotalCharges  Churn  proba_0  proba_1  \n",
       "0          95.05        659.6      0     0.54     0.46  \n",
       "1          95.05        713.1      0     0.53     0.47  \n",
       "2          95.05        316.4      0     0.60     0.40  \n",
       "\n",
       "[3 rows x 22 columns]"
      ]
     },
     "execution_count": 73,
     "metadata": {},
     "output_type": "execute_result"
    }
   ],
   "source": [
    "np.random.seed(42)\n",
    "random.seed(42)\n",
    "\n",
    "# generate counterfactuals\n",
    "cf = dice.generate_counterfactuals(cust_sample, desired_class=0, total_CFs=3, features_to_vary=['TotalCharges'])\n",
    "\n",
    "# extract counterfactual instances\n",
    "counterfactual_instances = cf.cf_examples_list[0].final_cfs_df\n",
    "\n",
    "# predict probabilities for the counterfactuals\n",
    "cf_probs = final_model.predict_proba(counterfactual_instances.drop(columns='Churn'))\n",
    "\n",
    "# add predicted probabilities for class 1 and 0\n",
    "counterfactual_instances['proba_0'] = cf_probs[:, 0].round(2)\n",
    "counterfactual_instances['proba_1'] = cf_probs[:, 1].round(2)\n",
    "\n",
    "# display output\n",
    "counterfactual_instances"
   ]
  },
  {
   "cell_type": "markdown",
   "metadata": {},
   "source": [
    "**Key Takeaways**\n",
    "- The counterfactual explanation indicates that decreasing the `Total Charges` from USD1679.4 to higher values (e.g. 316, 713, and 659) would change the outcome from churn to not churn. This finding makes sense since previously we already discovered that churned customers usually have high Total Charges. This suggests that increasing Total Charges significantly influences the likelihood of churning.\n",
    "- Based on this output, in order to encourage long-term customer retention, we can propose an idea to the Customer Experience Maneger to implement pricing plans programs or loyalty discounts, making them satisfaction with perceived high costs."
   ]
  },
  {
   "cell_type": "markdown",
   "metadata": {},
   "source": [
    "### **5.5 Churn Reduction Simulation**\n",
    "In order this churn reduction simulation to work using the model, we need several assumptions: (1) The model has been deployed in the production environment and used by the CX Manager to predict customer churns. (2) The Customer Experience Manager with the support of Marketing Manager already carried out an intrvention to at-risk customers with retention success rate at 50%.\n",
    "\n",
    "And now, let us break down the logic of the calculation which we will implement it on the function below:\n",
    "1. Calculate the current churned customers. The churn rate can be adjusted to the rate in which another simulation is done. But for a starting point, let's use the churn rate based on the EDA, i.e., 26.5%. \n",
    "$$\\text{current churners} = \\text{total customers} \\times \\text{churn rate}$$\n",
    "2. Calculate the number of churners to retain. This number of customers is obtained from the model's predictions and multiplied by the success rate of the stakeholder's intervention. For example, the stakeholder runs targeted intervention to the at-risk customers (those predicted as churn by the model). \n",
    "$$\\text{retained churners} = \\text{predicted churners} \\times \\text{retention success rate}$$\n",
    "3. Calculate the number of new churners. This number is based on the total of current churners substrated by the retained ones. \n",
    "$$\\text{new churners} = \\text{current churners} - \\text{retained churners}$$ \n",
    "4. Calculate new churn rate by dividing new churners from total customers. $$\\text{new churn rate} = \\frac{\\text{new churners}}{\\text{total customers}}$$"
   ]
  },
  {
   "cell_type": "code",
   "execution_count": 74,
   "metadata": {},
   "outputs": [
    {
     "name": "stdout",
     "output_type": "stream",
     "text": [
      "New Churn Rate: 18.50%\n"
     ]
    }
   ],
   "source": [
    "# build function for the simulation\n",
    "def simulate_churn_reduction(total_customers, current_churn_rate, predicted_churners, retention_success_rate):\n",
    "    current_churners = total_customers * current_churn_rate\n",
    "    retained_churners = predicted_churners * retention_success_rate\n",
    "    new_churners = current_churners - retained_churners\n",
    "    new_churn_rate = new_churners / total_customers\n",
    "    return new_churn_rate\n",
    "\n",
    "# assumptions\n",
    "total_customers = 10000\n",
    "current_churn_rate = 0.265\n",
    "predicted_churners = 1600\n",
    "retention_success_rate = 0.5\n",
    "\n",
    "# perform simulation\n",
    "new_churn_rate = simulate_churn_reduction(total_customers, current_churn_rate, predicted_churners, retention_success_rate)\n",
    "print(f\"New Churn Rate: {new_churn_rate * 100:.2f}%\")"
   ]
  },
  {
   "cell_type": "markdown",
   "metadata": {},
   "source": [
    "**Key Takeaways**\n",
    "- Based on the assumptions, the model has been used to predict 10,000 customers, and there are 1,600 users susceptible to churn so the CX Manager implemented a targeted intervention, i.e., offerring 10% cashback with certain max valuee for the customer's next purchase. This marketing startegy is assumed to have 50% success rate.\n",
    "- From this point, the churn rate will be 18.50%, or a reduction of about 8%, slightly below the target of 10%. "
   ]
  },
  {
   "cell_type": "markdown",
   "metadata": {},
   "source": [
    "### **5.6 Model Saving**\n",
    "\n",
    "In the lifecycle of a machine learning project, model saving allows you to store the trained model in a file format that can be loaded and deployed later for inference, evaluation, or further training. This process not only saves time by eliminating the need to retrain the model from scratch but also facilitates seamless integration into production systems or applications."
   ]
  },
  {
   "cell_type": "code",
   "execution_count": 75,
   "metadata": {},
   "outputs": [
    {
     "data": {
      "text/plain": [
       "['../model/clf_final.pkl']"
      ]
     },
     "execution_count": 75,
     "metadata": {},
     "output_type": "execute_result"
    }
   ],
   "source": [
    "import joblib \n",
    "\n",
    "# save model\n",
    "joblib.dump(final_model, '../model/clf_final.pkl')"
   ]
  },
  {
   "cell_type": "markdown",
   "metadata": {},
   "source": [
    "<a href=\"#top\" style=\"display: inline-block; padding: 10px; text-decoration: none; background-color: #007bff; color: white; border-radius: 5px; margin-top: 20px;\">Back to Top</a>"
   ]
  }
 ],
 "metadata": {
  "kernelspec": {
   "display_name": "3.9.16",
   "language": "python",
   "name": "python3"
  },
  "language_info": {
   "codemirror_mode": {
    "name": "ipython",
    "version": 3
   },
   "file_extension": ".py",
   "mimetype": "text/x-python",
   "name": "python",
   "nbconvert_exporter": "python",
   "pygments_lexer": "ipython3",
   "version": "3.9.16"
  }
 },
 "nbformat": 4,
 "nbformat_minor": 2
}
